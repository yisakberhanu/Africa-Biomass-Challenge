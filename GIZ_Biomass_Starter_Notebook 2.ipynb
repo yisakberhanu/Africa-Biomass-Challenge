{
 "cells": [
  {
   "cell_type": "code",
   "execution_count": 1,
   "metadata": {
    "executionInfo": {
     "elapsed": 662,
     "status": "ok",
     "timestamp": 1674723307296,
     "user": {
      "displayName": "Nelson Mganga",
      "userId": "15984282569117459010"
     },
     "user_tz": -180
    },
    "id": "ghyAh0w20yIH"
   },
   "outputs": [],
   "source": [
    "import h5py\n",
    "import matplotlib.pyplot as plt\n",
    "import seaborn as sns\n",
    "import pandas as pd\n",
    "import numpy as np\n",
    "from sklearn.metrics import mean_squared_error\n",
    "from sklearn.model_selection import KFold, TimeSeriesSplit\n",
    "from catboost import CatBoostRegressor, Pool\n",
    "from lightgbm import LGBMRegressor\n",
    "from tqdm import tqdm\n",
    "import warnings\n",
    "warnings.filterwarnings('ignore')"
   ]
  },
  {
   "cell_type": "code",
   "execution_count": 2,
   "metadata": {
    "executionInfo": {
     "elapsed": 7,
     "status": "ok",
     "timestamp": 1674723322798,
     "user": {
      "displayName": "Nelson Mganga",
      "userId": "15984282569117459010"
     },
     "user_tz": -180
    },
    "id": "k3ZQRlZOQ65B"
   },
   "outputs": [],
   "source": [
    "trainset = h5py.File(\"09072022_1154_train.h5\", \"r\")\n",
    "validateset = h5py.File(\"09072022_1154_val.h5\", \"r\")\n",
    "testset = h5py.File(\"09072022_1154_test.h5\", \"r\")"
   ]
  },
  {
   "cell_type": "code",
   "execution_count": 3,
   "metadata": {},
   "outputs": [
    {
     "data": {
      "text/plain": [
       "<KeysViewHDF5 ['agbd', 'cloud', 'images', 'lat', 'lon', 'scl']>"
      ]
     },
     "execution_count": 3,
     "metadata": {},
     "output_type": "execute_result"
    }
   ],
   "source": [
    "trainset.keys()"
   ]
  },
  {
   "cell_type": "markdown",
   "metadata": {
    "id": "2rKhoGtGR1Xu"
   },
   "source": [
    "## Explore datasets"
   ]
  },
  {
   "cell_type": "code",
   "execution_count": 3,
   "metadata": {
    "executionInfo": {
     "elapsed": 1089,
     "status": "ok",
     "timestamp": 1674723355639,
     "user": {
      "displayName": "Nelson Mganga",
      "userId": "15984282569117459010"
     },
     "user_tz": -180
    },
    "id": "YgOvKhevSGNV"
   },
   "outputs": [],
   "source": [
    "# train\n",
    "train_images = np.array(trainset['images'],dtype=np.float32)\n",
    "train_images = train_images.transpose(0,3,1,2)\n",
    "\n",
    "train_biomasses = np.array(trainset['agbd'],dtype=np.float16)\n",
    "\n",
    "# validate\n",
    "validate_images = np.array(validateset['images'],dtype=np.float32)\n",
    "validate_images = validate_images.transpose(0,3,1,2)\n",
    "validate_biomasses = np.array(validateset['agbd'],dtype=np.float32)\n",
    "\n",
    "# test \n",
    "test_images = np.array(testset['images'],dtype=np.float32)\n",
    "test_images = test_images.transpose(0,3,1,2)\n",
    "test_biomasses = np.array(testset['agbd'],dtype=np.float16)\n",
    "\n",
    "#\n",
    "s2_images_h5 = h5py.File(\"images_test.h5\", \"r\")\n",
    "s2_images = np.array(s2_images_h5[\"images\"], dtype=np.float32)\n",
    "test = s2_images.transpose(0,3,1,2)\n",
    "\n",
    "train_cloud=np.array(trainset['cloud'],dtype=np.float64)\n",
    "#train_cloud=pd.DataFrame(train_cloud.reshape(train_cloud.shape[0], 225))\n",
    "train_lat=np.array(trainset['lat'],dtype=np.float64)\n",
    "#train_lat=pd.DataFrame(train_lat.reshape(train_lat.shape[0], 225))\n",
    "\n",
    "train_lon=np.array(trainset['lon'],dtype=np.float64)\n",
    "#train_lon=pd.DataFrame(train_lon.reshape(train_lon.shape[0], 225))\n",
    "train_scl=np.array(trainset['scl'],dtype=np.float64)\n",
    "#train_scl=pd.DataFrame(train_scl.reshape(train_scl.shape[0], 225))\n",
    "\n",
    "val_cloud=np.array(validateset['cloud'],dtype=np.float64)\n",
    "#val_cloud=pd.DataFrame(val_cloud.reshape(val_cloud.shape[0], 225))\n",
    "val_lat=np.array(validateset['lat'],dtype=np.float64)\n",
    "#val_lat=pd.DataFrame(val_lat.reshape(val_lat.shape[0], 225))\n",
    "val_lon=np.array(validateset['lon'],dtype=np.float64)\n",
    "#val_lon=pd.DataFrame(val_lon.reshape(val_lon.shape[0], 225))\n",
    "val_scl=np.array(validateset['scl'],dtype=np.float64)\n",
    "#val_scl=pd.DataFrame(val_scl.reshape(val_scl.shape[0], 225))\n",
    "\n",
    "test_cloud=np.array(testset['cloud'],dtype=np.float64)\n",
    "#test_cloud=pd.DataFrame(test_cloud.reshape(test_cloud.shape[0], 225))\n",
    "test_lat=np.array(testset['lat'],dtype=np.float64)\n",
    "#test_lat=pd.DataFrame(test_lat.reshape(test_lat.shape[0], 225))\n",
    "test_lon=np.array(testset['lon'],dtype=np.float64)\n",
    "#test_lon=pd.DataFrame(test_lon.reshape(test_lon.shape[0], 225))\n",
    "test_scl=np.array(testset['scl'],dtype=np.float64)\n",
    "#test_scl=pd.DataFrame(test_scl.reshape(test_scl.shape[0], 225))\n",
    "\n",
    "scloud=np.array(h5py.File(\"TestFiles/cloud_test.h5\", \"r\")['cloud'], dtype=np.float64)\n",
    "slat=np.array(h5py.File(\"TestFiles/lat_test.h5\", \"r\")['lat'], dtype=np.float64)\n",
    "slon=np.array(h5py.File(\"TestFiles/lon_test.h5\", \"r\")['lon'], dtype=np.float64)\n",
    "sscl=np.array(h5py.File(\"TestFiles/scl_test.h5\", \"r\")['scl'], dtype=np.float64)"
   ]
  },
  {
   "cell_type": "markdown",
   "metadata": {},
   "source": [
    "#### Data visualization"
   ]
  },
  {
   "cell_type": "code",
   "execution_count": 43,
   "metadata": {},
   "outputs": [
    {
     "data": {
      "image/png": "[encoded data removed]",
      "text/plain": [
       "<Figure size 432x288 with 1 Axes>"
      ]
     },
     "metadata": {
      "needs_background": "light"
     },
     "output_type": "display_data"
    }
   ],
   "source": [
    "nivd=(train_images[:, 7, :, :]-train_images[:, 3, :, :])/(train_images[:, 7, :, :]+train_images[:, 3, :, :])\n",
    "plt.imshow(nivd[123, :, :])\n",
    "plt.show()"
   ]
  },
  {
   "cell_type": "markdown",
   "metadata": {},
   "source": [
    "#### Faeature enginerring on band indice"
   ]
  },
  {
   "cell_type": "code",
   "execution_count": 4,
   "metadata": {},
   "outputs": [],
   "source": [
    "train=(train_images[:, 7, :, :]-train_images[:, 3, :, :])/(train_images[:, 7, :, :]+train_images[:, 3, :, :])\n",
    "train_nvdi=train.reshape(25036, 15*15)\n",
    "val=(validate_images[:, 7, :, :]-validate_images[:, 3, :, :])/(validate_images[:, 7, :, :]+validate_images[:, 3, :, :])\n",
    "val_nvdi=val.reshape(val.shape[0], 15*15)\n",
    "val2=(test_images[:, 7, :, :]-test_images[:, 3, :, :])/(test_images[:, 7, :, :]+test_images[:, 3, :, :])\n",
    "val2_nvdi=val2.reshape(val2.shape[0], 15*15)\n",
    "testdf=(test[:, 7, :, :]-test[:, 3, :, :])/(test[:, 7, :, :]+test[:, 3, :, :])\n",
    "testdf_nvdi=testdf.reshape(90, 15*15)"
   ]
  },
  {
   "cell_type": "code",
   "execution_count": 5,
   "metadata": {},
   "outputs": [],
   "source": [
    "train=pd.DataFrame()\n",
    "val=pd.DataFrame()\n",
    "val2=pd.DataFrame()\n",
    "testdf=pd.DataFrame()\n",
    "train['nvdi']=train_nvdi.mean(axis=1)\n",
    "val['nvdi']=val_nvdi.mean(axis=1)\n",
    "val2['nvdi']=val2_nvdi.mean(axis=1)\n",
    "testdf['nvdi']=testdf_nvdi.mean(axis=1)"
   ]
  },
  {
   "cell_type": "markdown",
   "metadata": {},
   "source": [
    "#### extracting statical summary from pixel"
   ]
  },
  {
   "cell_type": "code",
   "execution_count": 11,
   "metadata": {},
   "outputs": [
    {
     "name": "stderr",
     "output_type": "stream",
     "text": [
      "100%|██████████| 12/12 [05:05<00:00, 25.43s/it]\n"
     ]
    }
   ],
   "source": [
    "for i in tqdm(range(12)):\n",
    "    train[str(i)+'_band_mean']=train_images[:, i, :, :].reshape(25036, 225).mean(axis=1)\n",
    "    train[str(i)+'_band_sum']=train_images[:, i, :, :].reshape(25036, 225).sum(axis=1)\n",
    "    train[str(i)+'_band_median']=pd.DataFrame(train_images[:, i, :, :].reshape(25036, 225)).median(axis=1)\n",
    "    train[str(i)+'_band_mode']=pd.DataFrame(train_images[:, i, :, :].reshape(25036, 225)).mode(axis=1)[0]\n",
    "    train[str(i)+'_band_min']=train_images[:, i, :, :].reshape(25036, 225).min(axis=1)\n",
    "    train[str(i)+'_band_max']=train_images[:, i, :, :].reshape(25036, 225).max(axis=1)\n",
    "    train[str(i)+'_band_std']=train_images[:, i, :, :].reshape(25036, 225).std(axis=1)\n",
    "    train[str(i)+'_band_var']=train_images[:, i, :, :].reshape(25036, 225).var(axis=1)\n",
    "    train[str(i)+'_band_skew']=pd.DataFrame(train_images[:, i, :, :].reshape(25036, 225)).skew(axis=1)\n",
    "    train[str(i)+'_band_kurtosis']=pd.DataFrame(train_images[:, i, :, :].reshape(25036, 225)).kurtosis(axis=1)\n",
    "    train[str(i)+'_q1']=pd.DataFrame(train_images[:, i, :, :].reshape(25036, 225)).quantile(0.05, axis=1)\n",
    "    #train[str(i)+'_q2']=pd.DataFrame(train_images[:, i, :, :].reshape(25036, 225)).quantile(0.1, axis=1)\n",
    "    #train[str(i)+'_q3']=pd.DataFrame(train_images[:, i, :, :].reshape(25036, 225)).quantile(0.15, axis=1)\n",
    "    #train[str(i)+'_q4']=pd.DataFrame(train_images[:, i, :, :].reshape(25036, 225)).quantile(0.2, axis=1)\n",
    "    train[str(i)+'_q5']=pd.DataFrame(train_images[:, i, :, :].reshape(25036, 225)).quantile(0.25, axis=1)\n",
    "    #train[str(i)+'_q6']=pd.DataFrame(train_images[:, i, :, :].reshape(25036, 225)).quantile(0.30, axis=1)\n",
    "    #train[str(i)+'_q7']=pd.DataFrame(train_images[:, i, :, :].reshape(25036, 225)).quantile(0.35, axis=1)\n",
    "    #train[str(i)+'_q8']=pd.DataFrame(train_images[:, i, :, :].reshape(25036, 225)).quantile(0.40, axis=1)\n",
    "    train[str(i)+'_q9']=pd.DataFrame(train_images[:, i, :, :].reshape(25036, 225)).quantile(0.5, axis=1)\n",
    "    #train[str(i)+'_q10']=pd.DataFrame(train_images[:, i, :, :].reshape(25036, 225)).quantile(0.6, axis=1)\n",
    "    train[str(i)+'_q11']=pd.DataFrame(train_images[:, i, :, :].reshape(25036, 225)).quantile(0.75, axis=1)\n",
    "    train[str(i)+'_q12']=pd.DataFrame(train_images[:, i, :, :].reshape(25036, 225)).quantile(0.85, axis=1)\n",
    "    train[str(i)+'_q13']=pd.DataFrame(train_images[:, i, :, :].reshape(25036, 225)).quantile(0.95, axis=1)\n",
    "    val[str(i)+'_band_mean']=validate_images[:, i, :, :].reshape(validate_images.shape[0], 225).mean(axis=1)\n",
    "    val[str(i)+'_band_sum']=validate_images[:, i, :, :].reshape(validate_images.shape[0], 225).sum(axis=1)\n",
    "    val[str(i)+'_band_median']=pd.DataFrame(validate_images[:, i, :, :].reshape(validate_images.shape[0], 225)).median(axis=1)\n",
    "    val[str(i)+'_band_mode']=pd.DataFrame(validate_images[:, i, :, :].reshape(validate_images.shape[0], 225)).mode(axis=1)[0]\n",
    "    val[str(i)+'_band_min']=validate_images[:, i, :, :].reshape(validate_images.shape[0], 225).min(axis=1)\n",
    "    val[str(i)+'_band_max']=validate_images[:, i, :, :].reshape(validate_images.shape[0], 225).max(axis=1)\n",
    "    val[str(i)+'_band_std']=validate_images[:, i, :, :].reshape(validate_images.shape[0], 225).std(axis=1)\n",
    "    val[str(i)+'_band_var']=validate_images[:, i, :, :].reshape(validate_images.shape[0], 225).var(axis=1)\n",
    "    val[str(i)+'_band_skew']=pd.DataFrame(validate_images[:, i, :, :].reshape(validate_images.shape[0], 225)).skew(axis=1)\n",
    "    val[str(i)+'_band_kurtosis']=pd.DataFrame(validate_images[:, i, :, :].reshape(validate_images.shape[0], 225)).kurtosis(axis=1)\n",
    "    val[str(i)+'_q1']=pd.DataFrame(validate_images[:, i, :, :].reshape(validate_images.shape[0], 225)).quantile(0.05, axis=1)\n",
    "    #val[str(i)+'_q2']=pd.DataFrame(validate_images[:, i, :, :].reshape(validate_images.shape[0], 225)).quantile(0.1, axis=1)\n",
    "    #val[str(i)+'_q3']=pd.DataFrame(validate_images[:, i, :, :].reshape(validate_images.shape[0], 225)).quantile(0.15, axis=1)\n",
    "    #val[str(i)+'_q4']=pd.DataFrame(validate_images[:, i, :, :].reshape(validate_images.shape[0], 225)).quantile(0.2, axis=1)\n",
    "    val[str(i)+'_q5']=pd.DataFrame(validate_images[:, i, :, :].reshape(validate_images.shape[0], 225)).quantile(0.25, axis=1)\n",
    "    #val[str(i)+'_q6']=pd.DataFrame(validate_images[:, i, :, :].reshape(validate_images.shape[0], 225)).quantile(0.30, axis=1)\n",
    "    #val[str(i)+'_q7']=pd.DataFrame(validate_images[:, i, :, :].reshape(validate_images.shape[0], 225)).quantile(0.35, axis=1)\n",
    "    #val[str(i)+'_q8']=pd.DataFrame(validate_images[:, i, :, :].reshape(validate_images.shape[0], 225)).quantile(0.40, axis=1)\n",
    "    val[str(i)+'_q9']=pd.DataFrame(validate_images[:, i, :, :].reshape(validate_images.shape[0], 225)).quantile(0.5, axis=1)\n",
    "    #val[str(i)+'_q10']=pd.DataFrame(validate_images[:, i, :, :].reshape(validate_images.shape[0], 225)).quantile(0.6, axis=1)\n",
    "    val[str(i)+'_q11']=pd.DataFrame(validate_images[:, i, :, :].reshape(validate_images.shape[0], 225)).quantile(0.75, axis=1)\n",
    "    val[str(i)+'_q12']=pd.DataFrame(validate_images[:, i, :, :].reshape(validate_images.shape[0], 225)).quantile(0.85, axis=1)\n",
    "    val[str(i)+'_q13']=pd.DataFrame(validate_images[:, i, :, :].reshape(validate_images.shape[0], 225)).quantile(0.95, axis=1)\n",
    "\n",
    "\n",
    "    val2[str(i)+'_band_mean']=test_images[:, i, :, :].reshape(test_images.shape[0], 225).mean(axis=1)\n",
    "    val2[str(i)+'_band_sum']=test_images[:, i, :, :].reshape(test_images.shape[0], 225).sum(axis=1)\n",
    "    val2[str(i)+'_band_median']=pd.DataFrame(test_images[:, i, :, :].reshape(test_images.shape[0], 225)).median(axis=1)\n",
    "    val2[str(i)+'_band_mode']=pd.DataFrame(test_images[:, i, :, :].reshape(test_images.shape[0], 225)).mode(axis=1)[0]\n",
    "    val2[str(i)+'_band_min']=test_images[:, i, :, :].reshape(test_images.shape[0], 225).min(axis=1)\n",
    "    val2[str(i)+'_band_max']=test_images[:, i, :, :].reshape(test_images.shape[0], 225).max(axis=1)\n",
    "    val2[str(i)+'_band_std']=test_images[:, i, :, :].reshape(test_images.shape[0], 225).std(axis=1)\n",
    "    val2[str(i)+'_band_var']=test_images[:, i, :, :].reshape(test_images.shape[0], 225).var(axis=1)\n",
    "    val2[str(i)+'_band_skew']=pd.DataFrame(test_images[:, i, :, :].reshape(test_images.shape[0], 225)).skew(axis=1)\n",
    "    val2[str(i)+'_band_kurtosis']=pd.DataFrame(test_images[:, i, :, :].reshape(test_images.shape[0], 225)).kurtosis(axis=1)\n",
    "    val2[str(i)+'_q1']=pd.DataFrame(test_images[:, i, :, :].reshape(test_images.shape[0], 225)).quantile(0.05, axis=1)\n",
    "    #val2[str(i)+'_q2']=pd.DataFrame(test_images[:, i, :, :].reshape(test_images.shape[0], 225)).quantile(0.1, axis=1)\n",
    "    #val2[str(i)+'_q3']=pd.DataFrame(test_images[:, i, :, :].reshape(test_images.shape[0], 225)).quantile(0.15, axis=1)\n",
    "    #val2[str(i)+'_q4']=pd.DataFrame(test_images[:, i, :, :].reshape(test_images.shape[0], 225)).quantile(0.2, axis=1)\n",
    "    val2[str(i)+'_q5']=pd.DataFrame(test_images[:, i, :, :].reshape(test_images.shape[0], 225)).quantile(0.25, axis=1)\n",
    "    #val2[str(i)+'_q6']=pd.DataFrame(test_images[:, i, :, :].reshape(test_images.shape[0], 225)).quantile(0.30, axis=1)\n",
    "    #val2[str(i)+'_q7']=pd.DataFrame(test_images[:, i, :, :].reshape(test_images.shape[0], 225)).quantile(0.35, axis=1)\n",
    "    #val2[str(i)+'_q8']=pd.DataFrame(test_images[:, i, :, :].reshape(test_images.shape[0], 225)).quantile(0.40, axis=1)\n",
    "    val2[str(i)+'_q9']=pd.DataFrame(test_images[:, i, :, :].reshape(test_images.shape[0], 225)).quantile(0.5, axis=1)\n",
    "    #val2[str(i)+'_q10']=pd.DataFrame(test_images[:, i, :, :].reshape(test_images.shape[0], 225)).quantile(0.6, axis=1)\n",
    "    val2[str(i)+'_q11']=pd.DataFrame(test_images[:, i, :, :].reshape(test_images.shape[0], 225)).quantile(0.75, axis=1)\n",
    "    val2[str(i)+'_q12']=pd.DataFrame(test_images[:, i, :, :].reshape(test_images.shape[0], 225)).quantile(0.85, axis=1)\n",
    "    val2[str(i)+'_q13']=pd.DataFrame(test_images[:, i, :, :].reshape(test_images.shape[0], 225)).quantile(0.95, axis=1)\n",
    "\n",
    "\n",
    "    testdf[str(i)+'_band_mean']=test[:, i, :, :].reshape(test.shape[0], 225).mean(axis=1)\n",
    "    testdf[str(i)+'_band_sum']=test[:, i, :, :].reshape(test.shape[0], 225).sum(axis=1)\n",
    "    testdf[str(i)+'_band_median']=pd.DataFrame(test[:, i, :, :].reshape(test.shape[0], 225)).median(axis=1)\n",
    "    testdf[str(i)+'_band_mode']=pd.DataFrame(test[:, i, :, :].reshape(90, 225)).mode(axis=1)[0]\n",
    "    testdf[str(i)+'_band_min']=test[:, i, :, :].reshape(test.shape[0], 225).min(axis=1)\n",
    "    testdf[str(i)+'_band_max']=test[:, i, :, :].reshape(test.shape[0], 225).max(axis=1)\n",
    "    testdf[str(i)+'_band_std']=test[:, i, :, :].reshape(test.shape[0], 225).std(axis=1)\n",
    "    testdf[str(i)+'_band_var']=test[:, i, :, :].reshape(test.shape[0], 225).var(axis=1)\n",
    "    testdf[str(i)+'_band_skew']=pd.DataFrame(test[:, i, :, :].reshape(test.shape[0], 225)).skew(axis=1)\n",
    "    testdf[str(i)+'_band_kurtosis']=pd.DataFrame(test[:, i, :, :].reshape(test.shape[0], 225)).kurtosis(axis=1)\n",
    "    testdf[str(i)+'_q1']=pd.DataFrame(test[:, i, :, :].reshape(test.shape[0], 225)).quantile(0.05, axis=1)\n",
    "    #testdf[str(i)+'_q2']=pd.DataFrame(test[:, i, :, :].reshape(test.shape[0], 225)).quantile(0.1, axis=1)\n",
    "    #testdf[str(i)+'_q3']=pd.DataFrame(test[:, i, :, :].reshape(test.shape[0], 225)).quantile(0.15, axis=1)\n",
    "    #testdf[str(i)+'_q4']=pd.DataFrame(test[:, i, :, :].reshape(test.shape[0], 225)).quantile(0.2, axis=1)\n",
    "    testdf[str(i)+'_q5']=pd.DataFrame(test[:, i, :, :].reshape(test.shape[0], 225)).quantile(0.25, axis=1)\n",
    "    #testdf[str(i)+'_q6']=pd.DataFrame(test[:, i, :, :].reshape(test.shape[0], 225)).quantile(0.30, axis=1)\n",
    "    #testdf[str(i)+'_q7']=pd.DataFrame(test[:, i, :, :].reshape(test.shape[0], 225)).quantile(0.35, axis=1)\n",
    "    #testdf[str(i)+'_q8']=pd.DataFrame(test[:, i, :, :].reshape(test.shape[0], 225)).quantile(0.40, axis=1)\n",
    "    testdf[str(i)+'_q9']=pd.DataFrame(test[:, i, :, :].reshape(test.shape[0], 225)).quantile(0.5, axis=1)\n",
    "    #testdf[str(i)+'_q10']=pd.DataFrame(test[:, i, :, :].reshape(test.shape[0], 225)).quantile(0.6, axis=1)\n",
    "    testdf[str(i)+'_q11']=pd.DataFrame(test[:, i, :, :].reshape(test.shape[0], 225)).quantile(0.75, axis=1)\n",
    "    testdf[str(i)+'_q12']=pd.DataFrame(test[:, i, :, :].reshape(test.shape[0], 225)).quantile(0.85, axis=1)\n",
    "    testdf[str(i)+'_q13']=pd.DataFrame(test[:, i, :, :].reshape(test.shape[0], 225)).quantile(0.95, axis=1)"
   ]
  },
  {
   "cell_type": "code",
   "execution_count": 14,
   "metadata": {},
   "outputs": [],
   "source": [
    "def get_indice(array,size, type): \n",
    "  df=pd.DataFrame()\n",
    "  if type=='sum':\n",
    "    df['B01']=array[:, 0, :, :].reshape(size, 225).sum(axis=1)\n",
    "    df['B02']=array[:, 1, :, :].reshape(size, 225).sum(axis=1)\n",
    "    df['B03']=array[:, 2, :, :].reshape(size, 225).sum(axis=1)\n",
    "    df['B04']=array[:, 3, :, :].reshape(size, 225).sum(axis=1)\n",
    "    df['B05']=array[:, 4, :, :].reshape(size, 225).sum(axis=1)\n",
    "    df['B06']=array[:, 5, :, :].reshape(size, 225).sum(axis=1)\n",
    "    df['B07']=array[:, 6, :, :].reshape(size, 225).sum(axis=1)\n",
    "    df['B08']=array[:, 7, :, :].reshape(size, 225).sum(axis=1)\n",
    "    df['B8A']=array[:, 8, :, :].reshape(size, 225).sum(axis=1)\n",
    "    df['B09']=array[:, 9, :, :].reshape(size, 225).sum(axis=1)\n",
    "    df['B11']=array[:, 10, :, :].reshape(size, 225).sum(axis=1)\n",
    "    df['B12']=array[:, 11, :, :].reshape(size, 225).sum(axis=1)\n",
    "    return df\n",
    "\n",
    "  if type=='mean':\n",
    "    df['B01']=array[:, 0, :, :].reshape(size, 225).mean(axis=1)\n",
    "    df['B02']=array[:, 1, :, :].reshape(size, 225).mean(axis=1)\n",
    "    df['B03']=array[:, 2, :, :].reshape(size, 225).mean(axis=1)\n",
    "    df['B04']=array[:, 3, :, :].reshape(size, 225).mean(axis=1)\n",
    "    df['B05']=array[:, 4, :, :].reshape(size, 225).mean(axis=1)\n",
    "    df['B06']=array[:, 5, :, :].reshape(size, 225).mean(axis=1)\n",
    "    df['B07']=array[:, 6, :, :].reshape(size, 225).mean(axis=1)\n",
    "    df['B08']=array[:, 7, :, :].reshape(size, 225).mean(axis=1)\n",
    "    df['B8A']=array[:, 8, :, :].reshape(size, 225).mean(axis=1)\n",
    "    df['B09']=array[:, 9, :, :].reshape(size, 225).mean(axis=1)\n",
    "    df['B11']=array[:, 10, :, :].reshape(size, 225).mean(axis=1)\n",
    "    df['B12']=array[:, 11, :, :].reshape(size, 225).mean(axis=1)\n",
    "    return df\n",
    "  if type=='mode':\n",
    "    df['B01']=pd.DataFrame(array[:, 0, :, :].reshape(size, 225)).mode(axis=1)[0]\n",
    "    df['B02']=pd.DataFrame(array[:, 1, :, :].reshape(size, 225)).mode(axis=1)[0]\n",
    "    df['B03']=pd.DataFrame(array[:, 2, :, :].reshape(size, 225)).mode(axis=1)[0]\n",
    "    df['B04']=pd.DataFrame(array[:, 3, :, :].reshape(size, 225)).mode(axis=1)[0]\n",
    "    df['B05']=pd.DataFrame(array[:, 4, :, :].reshape(size, 225)).mode(axis=1)[0]\n",
    "    df['B06']=pd.DataFrame(array[:, 5, :, :].reshape(size, 225)).mode(axis=1)[0]\n",
    "    df['B07']=pd.DataFrame(array[:, 6, :, :].reshape(size, 225)).mode(axis=1)[0]\n",
    "    df['B08']=pd.DataFrame(array[:, 7, :, :].reshape(size, 225)).mode(axis=1)[0]\n",
    "    df['B8A']=pd.DataFrame(array[:, 8, :, :].reshape(size, 225)).mode(axis=1)[0]\n",
    "    df['B09']=pd.DataFrame(array[:, 9, :, :].reshape(size, 225)).mode(axis=1)[0]\n",
    "    df['B11']=pd.DataFrame(array[:, 10, :, :].reshape(size, 225)).mode(axis=1)[0]\n",
    "    df['B12']=pd.DataFrame(array[:, 11, :, :].reshape(size, 225)).mode(axis=1)[0]\n",
    "    return df\n",
    "\n",
    "\n",
    "  if type=='max':\n",
    "    df['B01']=array[:, 0, :, :].reshape(size, 225).max(axis=1)\n",
    "    df['B02']=array[:, 1, :, :].reshape(size, 225).max(axis=1)\n",
    "    df['B03']=array[:, 2, :, :].reshape(size, 225).max(axis=1)\n",
    "    df['B04']=array[:, 3, :, :].reshape(size, 225).max(axis=1)\n",
    "    df['B05']=array[:, 4, :, :].reshape(size, 225).max(axis=1)\n",
    "    df['B06']=array[:, 5, :, :].reshape(size, 225).max(axis=1)\n",
    "    df['B07']=array[:, 6, :, :].reshape(size, 225).max(axis=1)\n",
    "    df['B08']=array[:, 7, :, :].reshape(size, 225).max(axis=1)\n",
    "    df['B8A']=array[:, 8, :, :].reshape(size, 225).max(axis=1)\n",
    "    df['B09']=array[:, 9, :, :].reshape(size, 225).max(axis=1)\n",
    "    df['B11']=array[:, 10, :, :].reshape(size, 225).max(axis=1)\n",
    "    df['B12']=array[:, 11, :, :].reshape(size, 225).max(axis=1)\n",
    "    return df\n",
    "\n",
    "  if type=='min':\n",
    "    df['B01']=array[:, 0, :, :].reshape(size, 225).min(axis=1)\n",
    "    df['B02']=array[:, 1, :, :].reshape(size, 225).min(axis=1)\n",
    "    df['B03']=array[:, 2, :, :].reshape(size, 225).min(axis=1)\n",
    "    df['B04']=array[:, 3, :, :].reshape(size, 225).min(axis=1)\n",
    "    df['B05']=array[:, 4, :, :].reshape(size, 225).min(axis=1)\n",
    "    df['B06']=array[:, 5, :, :].reshape(size, 225).min(axis=1)\n",
    "    df['B07']=array[:, 6, :, :].reshape(size, 225).min(axis=1)\n",
    "    df['B08']=array[:, 7, :, :].reshape(size, 225).min(axis=1)\n",
    "    df['B8A']=array[:, 8, :, :].reshape(size, 225).min(axis=1)\n",
    "    df['B09']=array[:, 9, :, :].reshape(size, 225).min(axis=1)\n",
    "    df['B11']=array[:, 10, :, :].reshape(size, 225).min(axis=1)\n",
    "    df['B12']=array[:, 11, :, :].reshape(size, 225).min(axis=1)\n",
    "    return df\n",
    "\n",
    "  if type=='std':\n",
    "    df['B01']=array[:, 0, :, :].reshape(size, 225).std(axis=1)\n",
    "    df['B02']=array[:, 1, :, :].reshape(size, 225).std(axis=1)\n",
    "    df['B03']=array[:, 2, :, :].reshape(size, 225).std(axis=1)\n",
    "    df['B04']=array[:, 3, :, :].reshape(size, 225).std(axis=1)\n",
    "    df['B05']=array[:, 4, :, :].reshape(size, 225).std(axis=1)\n",
    "    df['B06']=array[:, 5, :, :].reshape(size, 225).std(axis=1)\n",
    "    df['B07']=array[:, 6, :, :].reshape(size, 225).std(axis=1)\n",
    "    df['B08']=array[:, 7, :, :].reshape(size, 225).std(axis=1)\n",
    "    df['B8A']=array[:, 8, :, :].reshape(size, 225).std(axis=1)\n",
    "    df['B09']=array[:, 9, :, :].reshape(size, 225).std(axis=1)\n",
    "    df['B11']=array[:, 10, :, :].reshape(size, 225).std(axis=1)\n",
    "    df['B12']=array[:, 11, :, :].reshape(size, 225).std(axis=1)\n",
    "    return df\n",
    "\n",
    "  if type=='skew':\n",
    "    df['B01']=pd.DataFrame(array[:, 0, :, :].reshape(size, 225)).skew(axis=1)\n",
    "    df['B02']=pd.DataFrame(array[:, 1, :, :].reshape(size, 225)).skew(axis=1)\n",
    "    df['B03']=pd.DataFrame(array[:, 2, :, :].reshape(size, 225)).skew(axis=1)\n",
    "    df['B04']=pd.DataFrame(array[:, 3, :, :].reshape(size, 225)).skew(axis=1)\n",
    "    df['B05']=pd.DataFrame(array[:, 4, :, :].reshape(size, 225)).skew(axis=1)\n",
    "    df['B06']=pd.DataFrame(array[:, 5, :, :].reshape(size, 225)).skew(axis=1)\n",
    "    df['B07']=pd.DataFrame(array[:, 6, :, :].reshape(size, 225)).skew(axis=1)\n",
    "    df['B08']=pd.DataFrame(array[:, 7, :, :].reshape(size, 225)).skew(axis=1)\n",
    "    df['B8A']=pd.DataFrame(array[:, 8, :, :].reshape(size, 225)).skew(axis=1)\n",
    "    df['B09']=pd.DataFrame(array[:, 9, :, :].reshape(size, 225)).skew(axis=1)\n",
    "    df['B11']=pd.DataFrame(array[:, 10, :, :].reshape(size, 225)).skew(axis=1)\n",
    "    df['B12']=pd.DataFrame(array[:, 11, :, :].reshape(size, 225)).skew(axis=1)\n",
    "    return df\n",
    "  if type=='kurt':\n",
    "    df['B01']=pd.DataFrame(array[:, 0, :, :].reshape(size, 225)).kurtosis(axis=1)\n",
    "    df['B02']=pd.DataFrame(array[:, 1, :, :].reshape(size, 225)).kurtosis(axis=1)\n",
    "    df['B03']=pd.DataFrame(array[:, 2, :, :].reshape(size, 225)).kurtosis(axis=1)\n",
    "    df['B04']=pd.DataFrame(array[:, 3, :, :].reshape(size, 225)).kurtosis(axis=1)\n",
    "    df['B05']=pd.DataFrame(array[:, 4, :, :].reshape(size, 225)).kurtosis(axis=1)\n",
    "    df['B06']=pd.DataFrame(array[:, 5, :, :].reshape(size, 225)).kurtosis(axis=1)\n",
    "    df['B07']=pd.DataFrame(array[:, 6, :, :].reshape(size, 225)).kurtosis(axis=1)\n",
    "    df['B08']=pd.DataFrame(array[:, 7, :, :].reshape(size, 225)).kurtosis(axis=1)\n",
    "    df['B8A']=pd.DataFrame(array[:, 8, :, :].reshape(size, 225)).kurtosis(axis=1)\n",
    "    df['B09']=pd.DataFrame(array[:, 9, :, :].reshape(size, 225)).kurtosis(axis=1)\n",
    "    df['B11']=pd.DataFrame(array[:, 10, :, :].reshape(size, 225)).kurtosis(axis=1)\n",
    "    df['B12']=pd.DataFrame(array[:, 11, :, :].reshape(size, 225)).kurtosis(axis=1)\n",
    "    return df"
   ]
  },
  {
   "cell_type": "markdown",
   "metadata": {},
   "source": [
    "#### more feature enginerring on band "
   ]
  },
  {
   "cell_type": "code",
   "execution_count": 12,
   "metadata": {},
   "outputs": [],
   "source": [
    "def get_indice_value(df): \n",
    "  #SOIL\n",
    "  df['SARVI2']=2.5 * (df['B08'] - df['B04']) / (1.0 + df['B08'] + 6.0 * df['B04'] - 7.5 * df['B02'])\n",
    "  df['SAVI3']=(1.0 + 0.5) * (df['B08'] - df['B04']) / (df['B08'] + df['B04'] + 0.5)\n",
    "  df['SAVI'] = ((df['B08'] - df['B04'])/(df['B08'] + df['B04'] + 0.33)) * (1 + 0.33)\n",
    "  df['SBL']=df['B09'] - 2.4 * df['B04']\n",
    "  df['SC']=(df['B11'] - df['B08']) / (df['B11'] + df['B08'])\n",
    "  df['SLAVI']=df['B08'] / (df['B04'] + df['B12'])\n",
    "  df['ATSAVI']=1.22 * (df['B08'] - 1.22 * df['B04'] - 0.03) / (1.22 * df['B08'] + df['B04'] - 1.22 * 0.03 + 0.08 * (1.0 + pow(1.22, 2.0)))\n",
    "  df['AFRI1600']=df['B08'] - 0.66 * df['B11'] / (df['B08'] + 0.66 * df['B11'])\n",
    "  df['AFRI1200']= df['B08'] - 0.5 * df['B12'] / (df['B08'] + 0.56 * df['B12'])\n",
    "  df['Alteration']=df['B11'] / df['B12']\n",
    "  df['ARI']=1.0 / df['B03'] - 1.0 / df['B05']\n",
    "  df['AVI']=2.0 * df['B09'] - df['B04']\n",
    "  df['ARVI']=(df['B8A'] - df['B04'] - 2 * (df['B04'] - df['B02'])) / (df['B8A'] + df['B04'] - 2 * (df['B04'] - df['B02']))\n",
    "  df['ARVI2']=-0.18 + 1.17 * ((df['B08'] - df['B04']) / (df['B08'] + df['B04']))\n",
    "  df['BDWDRVI']=(0.1 * df['B08'] - df['B02']) / (0.1 * df['B08'] + df['B02'])\n",
    "  df['BRI']=(1.0 / df['B03'] - 1.0 / df['B05']) / df['B08']\n",
    "  \n",
    "  #Chlorophyl\n",
    "  df['CCCI']=((df['B08'] - df['B05']) / (df['B08'] + df['B05'])) / ((df['B08'] - df['B04']) / (df['B08'] + df['B04']))\n",
    "  df['CARI']=(df['B05'] / df['B04']) * (np.sqrt(np.power(((df['B05'] - df['B03']) / 150.0 * 670.0 + df['B04'] + (df['B03'] - ((df['B05'] - df['B03']) / 150.0 * 550.0))), 2.0))) / (np.power(((df['B05'] - df['B03']) / np.power(150.0, 2.0) + 1.0), 0.5))\n",
    "  a = 0.496\n",
    "  df['CARI2']=(np.abs(((df['B05'] - df['B03']) / 150.0 * df['B04'] + df['B04'] + df['B03'] - (a * df['B03']))) / pow((pow(a, 2.0) + 1.0), 0.5)) * (df['B05'] / df['B04'])\n",
    "  df['Chlgreen']=np.power((df['B07'] / df['B03']), (-1.0))\n",
    "  df['Chgreen']=df['B08'] / df['B03'] - 1.0\n",
    "  df['Clrededge']=df['B08'] / df['B05'] - 1.0\n",
    "  df['Chlrededge']=np.power((df['B07'] / df['B05']), (-1.0))\n",
    "  df['CVI']=df['B08'] * df['B04'] / np.power(df['B03'], 2.0)\n",
    "  df['CI']=(df['B04'] - df['B02']) / df['B04']\n",
    "  df['CTI']=(((df['B04'] - df['B03']) / (df['B04'] + df['B03'])) + 0.5) / np.abs(((df['B04'] - df['B03']) / (df['B04'] + df['B03'])) + 0.5) * np.sqrt(np.abs((((df['B04'] - df['B03']) / (df['B04'] + df['B03']))) + 0.5))\n",
    "  df['Datt1']=(df['B08'] - df['B05']) / (df['B08'] - df['B04'])\n",
    "  df['Datt4']=df['B04'] / (df['B03'] * df['B05'])\n",
    "  df['Datt6']=df['B8A'] / (df['B03'] * df['B05'])\n",
    "  df['GDVI']=df['B08'] - df['B03']\n",
    "  df['DVIMSS']=2.4 * df['B09'] - df['B04']\n",
    "  df['EVI']=2.5 * (df['B08'] - df['B04']) / ((df['B08'] + 6.0 * df['B04'] - 7.5 * df['B02']) + 1.0)\n",
    "  df['EVI2']=2.4 * (df['B08'] - df['B04']) / (df['B08'] + df['B04'] + 1.0)\n",
    "  df['EVI22']=2.5 * (df['B08'] - df['B04']) / (df['B08'] + 2.4 * df['B04'] + 1.0)\n",
    "  df['Fe2+']=df['B12'] / df['B08'] + df['B03'] / df['B04']\n",
    "  df['Fe3+']=df['B04'] / df['B03']\n",
    "  df['FO']=df['B11']/ df['B08']\n",
    "  df['FI']=df['B12'] / df['B08'] + df['B03'] / df['B04']\n",
    "  df['FS']=df['B12'] / df['B11']\n",
    "  df['GEMI']=((2.0 * (np.power(df['B08'], 2.0) - np.power(df['B04'], 2.0)) + 1.5 * df['B08'] + 0.5 * df['B04']) / (df['B08'] + df['B04'] + 0.5) * (1.0 - 0.25 * (2.0 * (np.power(df['B08'], 2.0) - np.power(df['B04'], 2.0)) + 1.5 * df['B08'] + 0.5 * df['B04']) / (df['B08'] + df['B04'] + 0.5)) - (df['B04'] - 0.125) / (1.0 - df['B04']))\n",
    "  df['GVMI']= ((df['B08'] + 0.1) - (df['B12'] + 0.02)) / ((df['B08'] + 0.1) + (df['B12'] + 0.02))\n",
    "  df['GARI']=(df['B08'] - (df['B03'] - (df['B02'] - df['B04']))) / (df['B08'] - (df['B03'] + (df['B02']- df['B04'])))\n",
    "  df['GLI']=(2.0 * df['B03'] - df['B04'] - df['B02']) / (2.0 * df['B03'] + df['B04'] + df['B02'])\n",
    "  df['GBNDVI']=(df['B08'] - (df['B03'] + df['B02'])) / (df['B08']+ (df['B03'] + df['B02']))\n",
    "  df['GRNDVI']=(df['B08'] - (df['B03'] + df['B04'])) / (df['B08'] + (df['B03'] + df['B04']))\n",
    "  df['Hue']=np.arctan((2.0 * df['B04'] - df['B03'] - df['B02']) / 30.5 * (df['B03'] - df['B02']))\n",
    "  df['I']=(1.0 / (30.5)) * (df['B04']+ df['B03'] + df['B02'])\n",
    "  df['Latirite']=df['B11'] / df['B12']\n",
    "  df['LCI']=(df['B08'] - df['B05']) / (df['B08'] + df['B04'])\n",
    "  df['logR']=np.log(df['B08'] / df['B04'])\n",
    "  df['r']=df['B08'] / df['B04']\n",
    "  df['Maccioni']=(df['B07'] - df['B05']) / (df['B07'] - df['B04'])\n",
    "  df['McRIG']=(np.power(df['B02'], (-1.0)) - np.power(df['B03'], (-1.0))) * df['B08']\n",
    "  df['MVI']=df['B09'] / df['B11']\n",
    "  df['MGVI']=-0.386 * df['B03'] - 0.53 * df['B04'] + 0.535 * df['B06'] + 0.532 * df['B09']\n",
    "  df['MNSI']=0.404 * df['B03'] - 0.039 * df['B04'] - 0.505 * df['B06'] + 0.762 * df['B09']\n",
    "  df['MSBI']= 0.406 * df['B03'] + 0.6 * df['B04'] + 0.645 * df['B06'] + 0.243 * df['B09']\n",
    "  df['MYVI']=0.723 * df['B03'] - 0.597 * df['B04'] + 0.206 * df['B06'] - 0.278 * df['B09']\n",
    "  df['mARI']=(np.power(df['B03'], (-1.0)) - np.power(df['B05'], (-1.0))) * df['B08']\n",
    "  df['mCARI']=((df['B05'] - df['B04']) - 0.2 * (df['B05']- df['B03'])) * (df['B05'] / df['B04'])\n",
    "  df['mNDVI']=(df['B08'] - df['B04']) / (df['B08']+ df['B04'] - 2.0 * df['B01'])\n",
    "  df['NLI']=(np.power(df['B08'], 2.0) - df['B04']) / (np.power(df['B08'], 2.0) + df['B04'])\n",
    "  df['NORM_G']=df['B03'] / (df['B08'] + df['B04'] + df['B03'])\n",
    "  df['NORM_NIR']=df['B08'] / (df['B08'] + df['B04'] + df['B03'])\n",
    "  df['NORM_R']=df['B04'] / (df['B08'] + df['B04'] + df['B03']) \n",
    "  df['PPR']=(df['B03'] - df['B01']) / (df['B03']+ df['B01'])\n",
    "  df['PVR']=(df['B03'] - df['B04']) / (df['B03'] + df['B04'])\n",
    "  df['SIWSI']=(df['B8A'] - df['B11']) / (df['B8A'] + df['B11'])\n",
    "  df['NDVI']=(df['B12'] - df['B08']) / (df['B12'] + df['B08'])\n",
    "  df['BNDVI']= (df['B08']- df['B02']) / (df['B08'] + df['B02'])\n",
    "  df['REP']=700.0 + 40.0 * (((df['B04'] + df['B07']) / 2.0) - df['B05']) / (df['B06'] - df['B05'])\n",
    "  df['Rre']=(df['B04'] + df['B07']) / 2.0;\n",
    "  df['IF']=(2.0 * df['B04'] -df['B03'] - df['B02']) / (df['B03']- df['B02'])\n",
    "  df['BGI']=df['B01'] / df['B03']\n",
    "  df['RENDVI'] = (df['B06'] - df['B05']) / (df['B06'] + df['B05']) \n",
    "  df['FIDET'] = df['B12'] / (df['B8A'] * df['B09'])\n",
    "  df['RATIO2'] = df['B01'] / df['B05']\n",
    "  df['Ratio3']=df['B01']*df['B09']\n",
    "  df['Ratio4']=df['B01']/df['B09']\n",
    "  df['Ratio5']=df['B01']*df['B09']*df['B8A']\n",
    "  df['Ratio6']=df['B07']/df['B04']\n",
    "  df['Ratio7']=df['B01']/df['B03']\n",
    "  df['Ratio8']=df['B8A']/df['B09']\n",
    "  df['Ratio9']=df['B07']/df['B06']\n",
    "  df['S2REP']=705 + 35 * ((df['B04'] + df['B07'])/2) - df['B05'] / (df['B06'] - df['B05'])\n",
    "  eps=0.5\n",
    "  df['RESR']=(df['B06']-df['B01'])/(df['B06']+df['B01']+eps)\n",
    "  df['MI']=(df['B8A'] - df['B11']) / (df['B8A'] + df['B11'])\n",
    "  return df"
   ]
  },
  {
   "cell_type": "code",
   "execution_count": 15,
   "metadata": {},
   "outputs": [
    {
     "name": "stderr",
     "output_type": "stream",
     "text": [
      "100%|██████████| 8/8 [03:46<00:00, 28.34s/it]\n"
     ]
    }
   ],
   "source": [
    "lst_stat=['sum', 'mean', 'min', 'max', 'mode', 'std', 'skew', 'kurt']\n",
    "for stat in tqdm(lst_stat):\n",
    "    train_all_band=get_indice_value(get_indice(train_images, train_images.shape[0], stat)).add_suffix(stat)\n",
    "    train[train_all_band.columns]=train_all_band\n",
    "    val_all_band=get_indice_value(get_indice(validate_images, validate_images.shape[0], stat)).add_suffix(stat)\n",
    "    val[val_all_band.columns]=train_all_band\n",
    "    val2_all_band=get_indice_value(get_indice(test_images, test_images.shape[0], stat)).add_suffix(stat)\n",
    "    val2[val2_all_band.columns]=val2_all_band\n",
    "    test_all_band=get_indice_value(get_indice(test, 90, stat)).add_suffix(stat)\n",
    "    testdf[test_all_band.columns]=test_all_band"
   ]
  },
  {
   "cell_type": "markdown",
   "metadata": {},
   "source": [
    "#### feature enginerring on addition data"
   ]
  },
  {
   "cell_type": "code",
   "execution_count": 17,
   "metadata": {},
   "outputs": [],
   "source": [
    "train['cloud']=train_cloud.reshape(25036, 225).mean(axis=1)\n",
    "train['lat']=train_lat.reshape(25036, 225).mean(axis=1)\n",
    "train['lon']=train_lon.reshape(25036, 225).mean(axis=1)\n",
    "train['scl']=train_scl.reshape(25036, 225).mean(axis=1)\n",
    "train['cloud_std']=train_cloud.reshape(25036, 225).std(axis=1)\n",
    "train['lat_std']=train_lat.reshape(25036, 225).std(axis=1)\n",
    "train['lon_std']=train_lon.reshape(25036, 225).std(axis=1)\n",
    "train['scl_std']=train_scl.reshape(25036, 225).std(axis=1)\n",
    "train['cloud_min']=train_cloud.reshape(25036, 225).min(axis=1)\n",
    "train['lat_min']=train_lat.reshape(25036, 225).min(axis=1)\n",
    "train['lon_min']=train_lon.reshape(25036, 225).min(axis=1)\n",
    "train['scl_min']=train_scl.reshape(25036, 225).min(axis=1)\n",
    "train['cloud_max']=train_cloud.reshape(25036, 225).max(axis=1)\n",
    "train['lat_max']=train_lat.reshape(25036, 225).max(axis=1)\n",
    "train['lon_max']=train_lon.reshape(25036, 225).max(axis=1)\n",
    "train['scl_max']=train_scl.reshape(25036, 225).max(axis=1)\n",
    "\n",
    "\n",
    "val['cloud']=val_cloud.reshape(val.shape[0], 225).mean(axis=1)\n",
    "val['lat']=val_lat.reshape(val.shape[0], 225).mean(axis=1)\n",
    "val['lon']=val_lon.reshape(val.shape[0], 225).mean(axis=1)\n",
    "val['scl']=val_scl.reshape(val.shape[0], 225).mean(axis=1)\n",
    "val['cloud']=val_cloud.reshape(val.shape[0], 225).min(axis=1)\n",
    "val['lat_min']=val_lat.reshape(val.shape[0], 225).min(axis=1)\n",
    "val['lon_min']=val_lon.reshape(val.shape[0], 225).min(axis=1)\n",
    "val['scl_min']=val_scl.reshape(val.shape[0], 225).min(axis=1)\n",
    "val['cloud_max']=val_cloud.reshape(val.shape[0], 225).max(axis=1)\n",
    "val['lat_max']=val_lat.reshape(val.shape[0], 225).max(axis=1)\n",
    "val['lon_max']=val_lon.reshape(val.shape[0], 225).max(axis=1)\n",
    "val['scl_max']=val_scl.reshape(val.shape[0], 225).max(axis=1)\n",
    "val['cloud_std']=val_cloud.reshape(val.shape[0], 225).std(axis=1)\n",
    "val['lat_std']=val_lat.reshape(val.shape[0], 225).std(axis=1)\n",
    "val['lon_std']=val_lon.reshape(val.shape[0], 225).std(axis=1)\n",
    "val['scl_std']=val_scl.reshape(val.shape[0], 225).std(axis=1)\n",
    "\n",
    "val2['cloud']=test_cloud.reshape(val2.shape[0], 225).mean(axis=1)\n",
    "val2['lat']=test_lat.reshape(val2.shape[0], 225).mean(axis=1)\n",
    "val2['lon']=test_lon.reshape(val2.shape[0], 225).mean(axis=1)\n",
    "val2['scl']=test_scl.reshape(val2.shape[0], 225).mean(axis=1)\n",
    "val2['cloud_std']=test_cloud.reshape(val2.shape[0], 225).std(axis=1)\n",
    "val2['lat_std']=test_lat.reshape(val2.shape[0], 225).std(axis=1)\n",
    "val2['lon_std']=test_lon.reshape(val2.shape[0], 225).std(axis=1)\n",
    "val2['scl_std']=test_scl.reshape(val2.shape[0], 225).std(axis=1)\n",
    "val2['cloud_min']=test_cloud.reshape(val2.shape[0], 225).min(axis=1)\n",
    "val2['lat_min']=test_lat.reshape(val2.shape[0], 225).min(axis=1)\n",
    "val2['lon_min']=test_lon.reshape(val2.shape[0], 225).min(axis=1)\n",
    "val2['scl_min']=test_scl.reshape(val2.shape[0], 225).min(axis=1)\n",
    "val2['cloud_max']=test_cloud.reshape(val2.shape[0], 225).max(axis=1)\n",
    "val2['lat_max']=test_lat.reshape(val2.shape[0], 225).max(axis=1)\n",
    "val2['lon_max']=test_lon.reshape(val2.shape[0], 225).max(axis=1)\n",
    "val2['scl_max']=test_scl.reshape(val2.shape[0], 225).max(axis=1)\n",
    "\n",
    "\n",
    "testdf['cloud']=scloud.reshape(90, 225).mean(axis=1)\n",
    "testdf['lat']=slat.reshape(90, 225).mean(axis=1)\n",
    "testdf['lon']=slon.reshape(90, 225).mean(axis=1)\n",
    "testdf['scl']=sscl.reshape(90, 225).mean(axis=1)\n",
    "testdf['cloud_std']=scloud.reshape(90, 225).std(axis=1)\n",
    "testdf['lat_std']=slat.reshape(90, 225).std(axis=1)\n",
    "testdf['lon_std']=slon.reshape(90, 225).std(axis=1)\n",
    "testdf['scl_std']=sscl.reshape(90, 225).std(axis=1)\n",
    "testdf['cloud_min']=scloud.reshape(90, 225).min(axis=1)\n",
    "testdf['lat_min']=slat.reshape(90, 225).min(axis=1)\n",
    "testdf['lon_min']=slon.reshape(90, 225).min(axis=1)\n",
    "testdf['scl_min']=sscl.reshape(90, 225).min(axis=1)\n",
    "testdf['cloud_max']=scloud.reshape(90, 225).max(axis=1)\n",
    "testdf['lat_max']=slat.reshape(90, 225).max(axis=1)\n",
    "testdf['lon_max']=slon.reshape(90, 225).max(axis=1)\n",
    "testdf['scl_max']=sscl.reshape(90, 225).max(axis=1)"
   ]
  },
  {
   "cell_type": "code",
   "execution_count": 38,
   "metadata": {},
   "outputs": [],
   "source": [
    "rank_train=pd.DataFrame({'lat': train_lat.reshape(25036, 225).mean(axis=1), 'lon':train_lon.reshape(25036, 225).mean(axis=1)})\n",
    "rank_train['df']=0\n",
    "rank_val=pd.DataFrame({'lat': val_lat.reshape(val.shape[0], 225).mean(axis=1), 'lon':val_lon.reshape(val.shape[0], 225).mean(axis=1)})\n",
    "rank_val['df']=1\n",
    "rank_val2=pd.DataFrame({'lat': test_lat.reshape(val2.shape[0], 225).mean(axis=1), 'lon':test_lon.reshape(val2.shape[0], 225).mean(axis=1)})\n",
    "rank_val2['df']=2\n",
    "rank_test=pd.DataFrame({'lat': slat.reshape(90, 225).mean(axis=1), 'lon':slon.reshape(90, 225).mean(axis=1)})\n",
    "rank_test['df']=3\n",
    "rank=pd.concat([rank_train, rank_val, rank_val2, rank_test])\n",
    "rank=rank.sort_values(by=['lat', 'lon'])\n",
    "rank['location_order']=np.arange(rank.shape[0])\n",
    "\n",
    "train['location_order']=rank[rank['df']==0].drop('df', axis=1).sort_index()['location_order']\n",
    "val['location_order']=rank[rank['df']==1].drop('df', axis=1).sort_index()['location_order']\n",
    "val2['location_order']=rank[rank['df']==2].drop('df', axis=1).sort_index()['location_order']\n",
    "testdf['location_order']=rank[rank['df']==3].drop('df', axis=1).sort_index()['location_order']"
   ]
  },
  {
   "cell_type": "code",
   "execution_count": 39,
   "metadata": {},
   "outputs": [],
   "source": [
    "train.to_csv('train_half.csv', index=False)\n",
    "val.to_csv('val_half.csv', index=False)\n",
    "val2.to_csv('val2_half.csv', index=False)\n",
    "testdf.to_csv('testdf_half.csv', index=False)"
   ]
  },
  {
   "cell_type": "code",
   "execution_count": 4,
   "metadata": {},
   "outputs": [],
   "source": [
    "train=pd.read_csv('train_half.csv')\n",
    "val=pd.read_csv('val_half.csv')\n",
    "val2=pd.read_csv('val2_half.csv')\n",
    "testdf=pd.read_csv('testdf_half.csv')"
   ]
  },
  {
   "cell_type": "markdown",
   "metadata": {},
   "source": [
    "#### feature enginerring on pixel level eg(counting pixel)"
   ]
  },
  {
   "cell_type": "code",
   "execution_count": 10,
   "metadata": {},
   "outputs": [],
   "source": [
    "feat=[]\n",
    "for i in range(12):\n",
    "    col=pd.Series(pd.Series(train_images[:, i, :, :].flatten()).unique()).astype(str)+ f'band_{i}'\n",
    "    col2=pd.Series(pd.Series(validate_images[:, i, :, :].flatten()).unique()).astype(str)+ f'band_{i}'\n",
    "    col3=pd.Series(pd.Series(test_images[:, i, :, :].flatten()).unique()).astype(str)+ f'band_{i}'\n",
    "    col4=pd.Series(pd.Series(test[:, i, :, :].flatten()).unique()).astype(str)+ f'band_{i}'\n",
    "    feat=feat+col.tolist()+col2.tolist()+col2.tolist()+col2.tolist()"
   ]
  },
  {
   "cell_type": "code",
   "execution_count": 11,
   "metadata": {},
   "outputs": [],
   "source": [
    "feat=list(set(feat))\n",
    "feat_selected=feat"
   ]
  },
  {
   "cell_type": "code",
   "execution_count": 4,
   "metadata": {},
   "outputs": [],
   "source": [
    "#feat=list(set(feat))\n",
    "feat_selected=['1650band_10','916band_4','4083band_9','826band_11','831band_11','298band_2','625band_2','1024band_7','362band_11','938band_1','1598band_10','596band_0','361band_3','1349band_5','730band_2','4823band_9',\n",
    " '3880band_7','426band_1','4584band_7','618band_1','1134band_4','3962band_7','2535band_5','3972band_7','4874band_9','377band_3','761band_2','1092band_4',\n",
    " '937band_11','2545band_0','767band_2','344band_3','653band_2','4164band_7','267band_0','4416band_7','2788band_5','646band_11','4253band_9','306band_3','1189band_11']"
   ]
  },
  {
   "cell_type": "code",
   "execution_count": 13,
   "metadata": {},
   "outputs": [],
   "source": [
    "train_pixel=pd.DataFrame(np.zeros((train_images.shape[0], len(feat_selected)), dtype=np.float16), columns=feat_selected)\n",
    "val_pixel=pd.DataFrame(np.zeros((validate_images.shape[0], len(feat_selected)), dtype=np.float16), columns=feat_selected)\n",
    "val2_pixel=pd.DataFrame(np.zeros((test_images.shape[0], len(feat_selected)), dtype=np.float16), columns=feat_selected)\n",
    "test_pixel=pd.DataFrame(np.zeros((90, len(feat_selected)), dtype=np.float32), columns=feat_selected)"
   ]
  },
  {
   "cell_type": "code",
   "execution_count": 14,
   "metadata": {},
   "outputs": [
    {
     "name": "stderr",
     "output_type": "stream",
     "text": [
      "100%|██████████| 5174/5174 [21:43<00:00,  3.97it/s]\n"
     ]
    }
   ],
   "source": [
    "list_data=[validate_images]\n",
    "list_df=[val_pixel]\n",
    "for data, frame in zip(list_data, list_df):\n",
    "    for i in tqdm(range(data.shape[0])):\n",
    "        row=data[i, :, :, :]\n",
    "        for j in range(12):\n",
    "            serie=pd.Series(row[j, :, :].flatten())\n",
    "            \n",
    "            serie=serie.astype(str)+f'band_{j}'\n",
    "            serie=serie[serie.isin(feat_selected)]\n",
    "            frame.loc[i, (pd.Series(serie.value_counts().index)).values]=serie.value_counts().values\n",
    "            "
   ]
  },
  {
   "cell_type": "code",
   "execution_count": null,
   "metadata": {},
   "outputs": [],
   "source": [
    "from sklearn.ensemble import RandomForestRegressor\n",
    "rf=RandomForestRegressor(n_estimators=10)\n",
    "rf.fit(val_pixel, validate_biomasses)"
   ]
  },
  {
   "cell_type": "code",
   "execution_count": 34,
   "metadata": {},
   "outputs": [],
   "source": [
    "import_feat=pd.Series(rf.feature_importances_, val_pixel.columns).sort_values(ascending=False)\n",
    "feat_count_pixel=import_feat[import_feat>0.00000001].index"
   ]
  },
  {
   "cell_type": "code",
   "execution_count": 36,
   "metadata": {},
   "outputs": [],
   "source": [
    "train_pixel=pd.DataFrame(np.zeros((train_images.shape[0], len(feat_count_pixel)), dtype=np.float16), columns=feat_count_pixel)\n",
    "val_pixel=pd.DataFrame(np.zeros((validate_images.shape[0], len(feat_count_pixel)), dtype=np.float16), columns=feat_count_pixel)\n",
    "val2_pixel=pd.DataFrame(np.zeros((test_images.shape[0], len(feat_count_pixel)), dtype=np.float16), columns=feat_count_pixel)\n",
    "test_pixel=pd.DataFrame(np.zeros((90, len(feat_count_pixel)), dtype=np.float32), columns=feat_count_pixel)"
   ]
  },
  {
   "cell_type": "code",
   "execution_count": 38,
   "metadata": {},
   "outputs": [
    {
     "name": "stderr",
     "output_type": "stream",
     "text": [
      "100%|██████████| 25036/25036 [25:00<00:00, 16.68it/s]\n",
      "100%|██████████| 5174/5174 [05:49<00:00, 14.79it/s]\n",
      "100%|██████████| 5190/5190 [05:17<00:00, 16.34it/s]\n",
      "100%|██████████| 90/90 [00:05<00:00, 15.10it/s]\n"
     ]
    }
   ],
   "source": [
    "list_data=[train_images, validate_images, test_images, test]\n",
    "list_df=[train_pixel, val_pixel, val2_pixel, test_pixel]\n",
    "for data, frame in zip(list_data, list_df):\n",
    "    for i in tqdm(range(data.shape[0])):\n",
    "        row=data[i, :, :, :]\n",
    "        for j in range(12):\n",
    "            serie=pd.Series(row[j, :, :].flatten())\n",
    "            serie=serie.astype(str)+f'band_{j}'\n",
    "            serie=serie[serie.isin(feat_count_pixel)]\n",
    "            frame.loc[i, (pd.Series(serie.va\n",
    "            lue_counts().index)).values]=serie.value_counts().values\n",
    "            "
   ]
  },
  {
   "cell_type": "code",
   "execution_count": 15,
   "metadata": {},
   "outputs": [],
   "source": [
    "train_pixel.to_csv('train_pixel.csv', index=False)\n",
    "val_pixel.to_csv('val_pixel.csv', index=False)\n",
    "val2_pixel.to_csv('val2_pixel.csv', index=False)\n",
    "test_pixel.to_csv('test_pixel.csv', index=False)"
   ]
  },
  {
   "cell_type": "code",
   "execution_count": 7,
   "metadata": {},
   "outputs": [],
   "source": [
    "train_pixel=pd.read_csv('train_pixel.csv')\n",
    "val_pixel=pd.read_csv('val_pixel.csv')\n",
    "val2_pixel=pd.read_csv('val2_pixel.csv')\n",
    "test_pixel=pd.read_csv('test_pixel.csv')"
   ]
  },
  {
   "cell_type": "code",
   "execution_count": 8,
   "metadata": {},
   "outputs": [],
   "source": [
    "train[train_pixel.columns]=train_pixel\n",
    "val[val_pixel.columns]=val_pixel\n",
    "val2[val2_pixel.columns]=val2_pixel\n",
    "testdf[test_pixel.columns]=test_pixel"
   ]
  },
  {
   "cell_type": "markdown",
   "metadata": {},
   "source": [
    "### clusterin ang pca"
   ]
  },
  {
   "cell_type": "code",
   "execution_count": 10,
   "metadata": {},
   "outputs": [],
   "source": [
    "from sklearn.preprocessing import Normalizer, StandardScaler\n",
    "from sklearn.cluster import KMeans\n",
    "from sklearn.decomposition import PCA\n",
    "scaler=StandardScaler()\n",
    "def pca(df, n_comp):\n",
    "    scaled_df=scaler.fit_transform(df)\n",
    "    decomposer=PCA(n_components=n_comp)\n",
    "    decomposed=decomposer.fit_transform(scaled_df)\n",
    "    return decomposed\n",
    "def label_cluser(df, n_label=6):\n",
    "    scaled_df=df\n",
    "    cluster=KMeans(n_clusters=n_label)\n",
    "    label=cluster.fit_predict(scaled_df)\n",
    "    return label"
   ]
  },
  {
   "cell_type": "code",
   "execution_count": 7,
   "metadata": {},
   "outputs": [],
   "source": [
    "temp_df=np.concatenate((train_images, validate_images, test_images, test), axis=0)\n",
    "for i in range(12):\n",
    "    d=pca(temp_df[:, i, :, :].reshape(temp_df.shape[0], 15*15), n_comp=6)\n",
    "    label=label_cluser(d)\n",
    "    train[[f'pca_{i}_{j}' for j in range(6)]]=label[:train.shape[0]+1]\n",
    "    val[[f'pca_{i}_{j}' for j in range(6)]]=label[train.shape[0]:train.shape[0]+val.shape[0]+1]\n",
    "    val2[[f'pca_{i}_{j}' for j in range(6)]]=label[train.shape[0]+val.shape[0]:train.shape[0]+val.shape[0]+val2.shape[0]+1]\n",
    "    test[[f'pca_{i}_{j}' for j in range(6)]]=label[train.shape[0]+val.shape[0]+val.shape[0]:]\n",
    "    #\n",
    "    label=label_cluser(d)\n",
    "    train[[f'cluster_{i}']]=label[:train.shape[0]+1]\n",
    "    val[[f'cluster_{i}']]=label[train.shape[0]:train.shape[0]+val.shape[0]+1]\n",
    "    val2[[f'cluster_{i}']]=label[train.shape[0]+val.shape[0]:train.shape[0]+val.shape[0]+val2.shape[0]+1]\n",
    "    test[[f'cluster_{i}']]=label[train.shape[0]+val.shape[0]+val.shape[0]:]"
   ]
  },
  {
   "cell_type": "code",
   "execution_count": 18,
   "metadata": {},
   "outputs": [
    {
     "data": {
      "text/plain": [
       "array([10.65, 99.1 , 30.9 , ..., 19.3 , 31.05, 12.2 ], dtype=float16)"
      ]
     },
     "execution_count": 18,
     "metadata": {},
     "output_type": "execute_result"
    }
   ],
   "source": [
    "train['target']=train_biomasses\n",
    "train_biomasses"
   ]
  },
  {
   "cell_type": "code",
   "execution_count": 19,
   "metadata": {},
   "outputs": [
    {
     "data": {
      "text/plain": [
       "target          1.000000\n",
       "REPmean         0.209536\n",
       "REPsum          0.209536\n",
       "Maccionimean    0.200720\n",
       "Maccionisum     0.200720\n",
       "                  ...   \n",
       "FOmean         -0.151961\n",
       "SCsum          -0.155338\n",
       "SCmean         -0.155338\n",
       "CIsum          -0.158196\n",
       "CImean         -0.158196\n",
       "Name: target, Length: 1004, dtype: float64"
      ]
     },
     "execution_count": 19,
     "metadata": {},
     "output_type": "execute_result"
    }
   ],
   "source": [
    "train.corr()['target'].sort_values(ascending=False)"
   ]
  },
  {
   "cell_type": "code",
   "execution_count": 10,
   "metadata": {},
   "outputs": [
    {
     "data": {
      "image/png": "[encoded data removed]",
      "text/plain": [
       "<Figure size 432x288 with 1 Axes>"
      ]
     },
     "metadata": {
      "needs_background": "light"
     },
     "output_type": "display_data"
    }
   ],
   "source": [
    "plt.hist(validate_biomasses)\n",
    "plt.show()"
   ]
  },
  {
   "cell_type": "code",
   "execution_count": 7,
   "metadata": {},
   "outputs": [
    {
     "data": {
      "text/plain": [
       "count    2.503600e+04\n",
       "mean              inf\n",
       "std               inf\n",
       "min      4.511719e+00\n",
       "25%      1.642188e+01\n",
       "50%      2.554688e+01\n",
       "75%      5.196875e+01\n",
       "max      8.630000e+02\n",
       "dtype: float64"
      ]
     },
     "execution_count": 7,
     "metadata": {},
     "output_type": "execute_result"
    }
   ],
   "source": [
    "pd.Series(train_biomasses).describe()"
   ]
  },
  {
   "cell_type": "code",
   "execution_count": 8,
   "metadata": {},
   "outputs": [
    {
     "data": {
      "text/plain": [
       "0    23756\n",
       "1     1280\n",
       "dtype: int64"
      ]
     },
     "execution_count": 8,
     "metadata": {},
     "output_type": "execute_result"
    }
   ],
   "source": [
    "y_binary=(pd.concat([pd.Series(train_biomasses)])>150).astype(int)\n",
    "y_binary.value_counts()"
   ]
  },
  {
   "cell_type": "code",
   "execution_count": 66,
   "metadata": {},
   "outputs": [],
   "source": [
    "X=pd.concat([train, val, val2])\n",
    "y_binary=(pd.concat([pd.Series(train_biomasses), pd.Series(validate_biomasses), pd.Series(test_biomasses)])>150).astype(int)\n",
    "y=pd.concat([pd.Series(train_biomasses), pd.Series(validate_biomasses), pd.Series(test_biomasses)])"
   ]
  },
  {
   "cell_type": "code",
   "execution_count": 67,
   "metadata": {},
   "outputs": [],
   "source": [
    "X['target']=y\n",
    "corr=X.corr()['target'].sort_values(ascending=False)\n",
    "corr=corr[(corr>0.01) | (corr<-0.01)]\n",
    "corr"
   ]
  },
  {
   "cell_type": "code",
   "execution_count": 42,
   "metadata": {},
   "outputs": [],
   "source": [
    "X=X[corr.index].drop('target', axis=1)\n",
    "testdf=testdf[X.columns]"
   ]
  },
  {
   "cell_type": "markdown",
   "metadata": {
    "id": "PVAxS2EwqKiW"
   },
   "source": [
    "## Modelisation"
   ]
  },
  {
   "cell_type": "code",
   "execution_count": 57,
   "metadata": {},
   "outputs": [],
   "source": [
    "X=pd.concat([train, val, val2])\n",
    "y_binary=(pd.concat([pd.Series(train_biomasses), pd.Series(validate_biomasses), pd.Series(test_biomasses)])>150).astype(int)\n",
    "y=pd.concat([pd.Series(train_biomasses), pd.Series(validate_biomasses), pd.Series(test_biomasses)])"
   ]
  },
  {
   "cell_type": "markdown",
   "metadata": {},
   "source": [
    "#### checking test and train pair wise relations"
   ]
  },
  {
   "cell_type": "code",
   "execution_count": 75,
   "metadata": {},
   "outputs": [
    {
     "name": "stdout",
     "output_type": "stream",
     "text": [
      "Fold 1\n",
      "0:\tlearn: 0.6925097\ttest: 0.6928678\tbest: 0.6928678 (0)\ttotal: 127ms\tremaining: 6m 19s\n",
      "300:\tlearn: 0.6002968\ttest: 0.6736619\tbest: 0.6735687 (298)\ttotal: 12.9s\tremaining: 1m 56s\n",
      "600:\tlearn: 0.5441802\ttest: 0.6755624\tbest: 0.6729767 (391)\ttotal: 26.9s\tremaining: 1m 47s\n",
      "Stopped by overfitting detector  (300 iterations wait)\n",
      "\n",
      "bestTest = 0.67297668\n",
      "bestIteration = 391\n",
      "\n",
      "Shrink model to first 392 iterations.\n"
     ]
    },
    {
     "ename": "CatBoostError",
     "evalue": "C:/Program Files (x86)/Go Agent/pipelines/BuildMaster/catboost.git/catboost/libs/data/model_dataset_compatibility.cpp:81: At position 0 should be feature with name 0 (found mean_pixel).",
     "output_type": "error",
     "traceback": [
      "\u001b[1;31m---------------------------------------------------------------------------\u001b[0m",
      "\u001b[1;31mCatBoostError\u001b[0m                             Traceback (most recent call last)",
      "\u001b[1;32m<ipython-input-75-b0a5aa4f631c>\u001b[0m in \u001b[0;36m<module>\u001b[1;34m\u001b[0m\n\u001b[0;32m     29\u001b[0m     \u001b[0my_hat\u001b[0m\u001b[1;33m=\u001b[0m\u001b[0mmodel\u001b[0m\u001b[1;33m.\u001b[0m\u001b[0mpredict_proba\u001b[0m\u001b[1;33m(\u001b[0m\u001b[0mX_valid\u001b[0m\u001b[1;33m)\u001b[0m\u001b[1;33m[\u001b[0m\u001b[1;33m:\u001b[0m\u001b[1;33m,\u001b[0m \u001b[1;36m1\u001b[0m\u001b[1;33m]\u001b[0m\u001b[1;33m\u001b[0m\u001b[1;33m\u001b[0m\u001b[0m\n\u001b[0;32m     30\u001b[0m     \u001b[0moof\u001b[0m\u001b[1;33m[\u001b[0m\u001b[0mval_idx\u001b[0m\u001b[1;33m]\u001b[0m \u001b[1;33m=\u001b[0m \u001b[0my_hat\u001b[0m\u001b[1;33m\u001b[0m\u001b[1;33m\u001b[0m\u001b[0m\n\u001b[1;32m---> 31\u001b[1;33m     \u001b[0mpredictions\u001b[0m\u001b[1;33m.\u001b[0m\u001b[0mappend\u001b[0m\u001b[1;33m(\u001b[0m\u001b[0mmodel\u001b[0m\u001b[1;33m.\u001b[0m\u001b[0mpredict_proba\u001b[0m\u001b[1;33m(\u001b[0m\u001b[0mtestdf\u001b[0m\u001b[1;33m)\u001b[0m\u001b[1;33m[\u001b[0m\u001b[1;33m:\u001b[0m\u001b[1;36m1\u001b[0m\u001b[1;33m]\u001b[0m\u001b[1;33m)\u001b[0m\u001b[1;33m\u001b[0m\u001b[1;33m\u001b[0m\u001b[0m\n\u001b[0m\u001b[0;32m     32\u001b[0m     \u001b[0mprint\u001b[0m\u001b[1;33m(\u001b[0m\u001b[0mf1_score\u001b[0m\u001b[1;33m(\u001b[0m\u001b[0my_valid\u001b[0m\u001b[1;33m,\u001b[0m \u001b[1;33m(\u001b[0m\u001b[0my_hat\u001b[0m\u001b[1;33m>\u001b[0m\u001b[1;36m0.5\u001b[0m\u001b[1;33m)\u001b[0m\u001b[1;33m.\u001b[0m\u001b[0mastype\u001b[0m\u001b[1;33m(\u001b[0m\u001b[0mint\u001b[0m\u001b[1;33m)\u001b[0m\u001b[1;33m)\u001b[0m\u001b[1;33m)\u001b[0m\u001b[1;33m\u001b[0m\u001b[1;33m\u001b[0m\u001b[0m\n\u001b[0;32m     33\u001b[0m \u001b[1;33m\u001b[0m\u001b[0m\n",
      "\u001b[1;32mc:\\Users\\yisak\\.conda\\envs\\tensorflow_gpuenv\\lib\\site-packages\\catboost\\core.py\u001b[0m in \u001b[0;36mpredict_proba\u001b[1;34m(self, X, ntree_start, ntree_end, thread_count, verbose, task_type)\u001b[0m\n\u001b[0;32m   5220\u001b[0m                 \u001b[1;32mwith\u001b[0m \u001b[0mprobability\u001b[0m \u001b[1;32mfor\u001b[0m \u001b[0mevery\u001b[0m \u001b[1;32mclass\u001b[0m \u001b[1;32mfor\u001b[0m \u001b[0meach\u001b[0m \u001b[0mobject\u001b[0m\u001b[1;33m.\u001b[0m\u001b[1;33m\u001b[0m\u001b[1;33m\u001b[0m\u001b[0m\n\u001b[0;32m   5221\u001b[0m         \"\"\"\n\u001b[1;32m-> 5222\u001b[1;33m         \u001b[1;32mreturn\u001b[0m \u001b[0mself\u001b[0m\u001b[1;33m.\u001b[0m\u001b[0m_predict\u001b[0m\u001b[1;33m(\u001b[0m\u001b[0mX\u001b[0m\u001b[1;33m,\u001b[0m \u001b[1;34m'Probability'\u001b[0m\u001b[1;33m,\u001b[0m \u001b[0mntree_start\u001b[0m\u001b[1;33m,\u001b[0m \u001b[0mntree_end\u001b[0m\u001b[1;33m,\u001b[0m \u001b[0mthread_count\u001b[0m\u001b[1;33m,\u001b[0m \u001b[0mverbose\u001b[0m\u001b[1;33m,\u001b[0m \u001b[1;34m'predict_proba'\u001b[0m\u001b[1;33m,\u001b[0m \u001b[0mtask_type\u001b[0m\u001b[1;33m)\u001b[0m\u001b[1;33m\u001b[0m\u001b[1;33m\u001b[0m\u001b[0m\n\u001b[0m\u001b[0;32m   5223\u001b[0m \u001b[1;33m\u001b[0m\u001b[0m\n\u001b[0;32m   5224\u001b[0m \u001b[1;33m\u001b[0m\u001b[0m\n",
      "\u001b[1;32mc:\\Users\\yisak\\.conda\\envs\\tensorflow_gpuenv\\lib\\site-packages\\catboost\\core.py\u001b[0m in \u001b[0;36m_predict\u001b[1;34m(self, data, prediction_type, ntree_start, ntree_end, thread_count, verbose, parent_method_name, task_type)\u001b[0m\n\u001b[0;32m   2542\u001b[0m         \u001b[0mself\u001b[0m\u001b[1;33m.\u001b[0m\u001b[0m_validate_prediction_type\u001b[0m\u001b[1;33m(\u001b[0m\u001b[0mprediction_type\u001b[0m\u001b[1;33m)\u001b[0m\u001b[1;33m\u001b[0m\u001b[1;33m\u001b[0m\u001b[0m\n\u001b[0;32m   2543\u001b[0m \u001b[1;33m\u001b[0m\u001b[0m\n\u001b[1;32m-> 2544\u001b[1;33m         \u001b[0mpredictions\u001b[0m \u001b[1;33m=\u001b[0m \u001b[0mself\u001b[0m\u001b[1;33m.\u001b[0m\u001b[0m_base_predict\u001b[0m\u001b[1;33m(\u001b[0m\u001b[0mdata\u001b[0m\u001b[1;33m,\u001b[0m \u001b[0mprediction_type\u001b[0m\u001b[1;33m,\u001b[0m \u001b[0mntree_start\u001b[0m\u001b[1;33m,\u001b[0m \u001b[0mntree_end\u001b[0m\u001b[1;33m,\u001b[0m \u001b[0mthread_count\u001b[0m\u001b[1;33m,\u001b[0m \u001b[0mverbose\u001b[0m\u001b[1;33m,\u001b[0m \u001b[0mtask_type\u001b[0m\u001b[1;33m)\u001b[0m\u001b[1;33m\u001b[0m\u001b[1;33m\u001b[0m\u001b[0m\n\u001b[0m\u001b[0;32m   2545\u001b[0m         \u001b[1;32mreturn\u001b[0m \u001b[0mpredictions\u001b[0m\u001b[1;33m[\u001b[0m\u001b[1;36m0\u001b[0m\u001b[1;33m]\u001b[0m \u001b[1;32mif\u001b[0m \u001b[0mdata_is_single_object\u001b[0m \u001b[1;32melse\u001b[0m \u001b[0mpredictions\u001b[0m\u001b[1;33m\u001b[0m\u001b[1;33m\u001b[0m\u001b[0m\n\u001b[0;32m   2546\u001b[0m \u001b[1;33m\u001b[0m\u001b[0m\n",
      "\u001b[1;32mc:\\Users\\yisak\\.conda\\envs\\tensorflow_gpuenv\\lib\\site-packages\\catboost\\core.py\u001b[0m in \u001b[0;36m_base_predict\u001b[1;34m(self, pool, prediction_type, ntree_start, ntree_end, thread_count, verbose, task_type)\u001b[0m\n\u001b[0;32m   1809\u001b[0m \u001b[1;33m\u001b[0m\u001b[0m\n\u001b[0;32m   1810\u001b[0m     \u001b[1;32mdef\u001b[0m \u001b[0m_base_predict\u001b[0m\u001b[1;33m(\u001b[0m\u001b[0mself\u001b[0m\u001b[1;33m,\u001b[0m \u001b[0mpool\u001b[0m\u001b[1;33m,\u001b[0m \u001b[0mprediction_type\u001b[0m\u001b[1;33m,\u001b[0m \u001b[0mntree_start\u001b[0m\u001b[1;33m,\u001b[0m \u001b[0mntree_end\u001b[0m\u001b[1;33m,\u001b[0m \u001b[0mthread_count\u001b[0m\u001b[1;33m,\u001b[0m \u001b[0mverbose\u001b[0m\u001b[1;33m,\u001b[0m \u001b[0mtask_type\u001b[0m\u001b[1;33m)\u001b[0m\u001b[1;33m:\u001b[0m\u001b[1;33m\u001b[0m\u001b[1;33m\u001b[0m\u001b[0m\n\u001b[1;32m-> 1811\u001b[1;33m         \u001b[1;32mreturn\u001b[0m \u001b[0mself\u001b[0m\u001b[1;33m.\u001b[0m\u001b[0m_object\u001b[0m\u001b[1;33m.\u001b[0m\u001b[0m_base_predict\u001b[0m\u001b[1;33m(\u001b[0m\u001b[0mpool\u001b[0m\u001b[1;33m,\u001b[0m \u001b[0mprediction_type\u001b[0m\u001b[1;33m,\u001b[0m \u001b[0mntree_start\u001b[0m\u001b[1;33m,\u001b[0m \u001b[0mntree_end\u001b[0m\u001b[1;33m,\u001b[0m \u001b[0mthread_count\u001b[0m\u001b[1;33m,\u001b[0m \u001b[0mverbose\u001b[0m\u001b[1;33m,\u001b[0m \u001b[0mtask_type\u001b[0m\u001b[1;33m)\u001b[0m\u001b[1;33m\u001b[0m\u001b[1;33m\u001b[0m\u001b[0m\n\u001b[0m\u001b[0;32m   1812\u001b[0m \u001b[1;33m\u001b[0m\u001b[0m\n\u001b[0;32m   1813\u001b[0m     \u001b[1;32mdef\u001b[0m \u001b[0m_base_virtual_ensembles_predict\u001b[0m\u001b[1;33m(\u001b[0m\u001b[0mself\u001b[0m\u001b[1;33m,\u001b[0m \u001b[0mpool\u001b[0m\u001b[1;33m,\u001b[0m \u001b[0mprediction_type\u001b[0m\u001b[1;33m,\u001b[0m \u001b[0mntree_end\u001b[0m\u001b[1;33m,\u001b[0m \u001b[0mvirtual_ensembles_count\u001b[0m\u001b[1;33m,\u001b[0m \u001b[0mthread_count\u001b[0m\u001b[1;33m,\u001b[0m \u001b[0mverbose\u001b[0m\u001b[1;33m)\u001b[0m\u001b[1;33m:\u001b[0m\u001b[1;33m\u001b[0m\u001b[1;33m\u001b[0m\u001b[0m\n",
      "\u001b[1;32m_catboost.pyx\u001b[0m in \u001b[0;36m_catboost._CatBoost._base_predict\u001b[1;34m()\u001b[0m\n",
      "\u001b[1;32m_catboost.pyx\u001b[0m in \u001b[0;36m_catboost._CatBoost._base_predict\u001b[1;34m()\u001b[0m\n",
      "\u001b[1;31mCatBoostError\u001b[0m: C:/Program Files (x86)/Go Agent/pipelines/BuildMaster/catboost.git/catboost/libs/data/model_dataset_compatibility.cpp:81: At position 0 should be feature with name 0 (found mean_pixel)."
     ]
    }
   ],
   "source": [
    "from catboost import CatBoostClassifier\n",
    "from sklearn.metrics import f1_score\n",
    "from sklearn.model_selection import StratifiedKFold\n",
    "\n",
    "\n",
    "X=pd.concat([train, val, val2])\n",
    "y_binary=(pd.concat([pd.Series(train_biomasses), pd.Series(validate_biomasses), pd.Series(test_biomasses)])>150).astype(int)\n",
    "\n",
    "model=CatBoostClassifier(learning_rate=0.01051006124,\n",
    "    random_state=0,\n",
    "    n_estimators=3000,\n",
    "    auto_class_weights='Balanced'\n",
    ")\n",
    "skfold = StratifiedKFold(n_splits=2, shuffle=True, random_state=5234)\n",
    "oof = np.zeros(len(X))\n",
    "predictions = []\n",
    "for fold, (trn_idx, val_idx) in enumerate(skfold.split(X, y_binary)):\n",
    "    print(f'Fold {fold + 1}')\n",
    "    X_train, y_train = X.iloc[trn_idx], y_binary.iloc[trn_idx]\n",
    "    X_valid, y_valid = X.iloc[val_idx], y_binary.iloc[val_idx]\n",
    "    \n",
    "    model.fit(\n",
    "        X_train, y_train,\n",
    "        eval_set=(X_valid, y_valid),\n",
    "        verbose=300,\n",
    "        early_stopping_rounds=300,\n",
    "        use_best_model=True\n",
    "    )\n",
    "    y_hat=model.predict_proba(X_valid)[:, 1]\n",
    "    oof[val_idx] = y_hat\n",
    "    predictions.append(model.predict_proba(testdf)[:1])\n",
    "    print(f1_score(y_valid, (y_hat>0.5).astype(int)))\n",
    "\n",
    "predictions = np.mean(predictions, axis=1)\n",
    "print(f'Our oof mse score is {f1_score(y_binary, (oof>0.5).astype(int))}')"
   ]
  },
  {
   "cell_type": "code",
   "execution_count": null,
   "metadata": {},
   "outputs": [],
   "source": [
    "X['target']=oof\n",
    "X=X[y_feat==0]"
   ]
  },
  {
   "cell_type": "code",
   "execution_count": null,
   "metadata": {},
   "outputs": [],
   "source": [
    "X=X[X['target']>0.2]\n",
    "y=y.iloc[X.index]\n",
    "\n",
    "y_binary=y_binary.iloc[X.index]\n",
    "X=X.drop('target', axis=1)"
   ]
  },
  {
   "cell_type": "markdown",
   "metadata": {},
   "source": [
    "#### predicting probability of being outlier or not"
   ]
  },
  {
   "cell_type": "code",
   "execution_count": 81,
   "metadata": {},
   "outputs": [
    {
     "name": "stdout",
     "output_type": "stream",
     "text": [
      "Fold 1\n",
      "0:\tlearn: 0.6885390\ttest: 0.6907929\tbest: 0.6907929 (0)\ttotal: 197ms\tremaining: 9m 50s\n",
      "300:\tlearn: 0.1821531\ttest: 0.7242271\tbest: 0.6037625 (99)\ttotal: 15.9s\tremaining: 2m 22s\n",
      "Stopped by overfitting detector  (300 iterations wait)\n",
      "\n",
      "bestTest = 0.603762468\n",
      "bestIteration = 99\n",
      "\n",
      "Shrink model to first 100 iterations.\n",
      "0.02588996763754045\n",
      "Fold 2\n",
      "0:\tlearn: 0.6877666\ttest: 0.6908619\tbest: 0.6908619 (0)\ttotal: 179ms\tremaining: 8m 56s\n",
      "300:\tlearn: 0.1826384\ttest: 0.7904585\tbest: 0.6193726 (63)\ttotal: 17.2s\tremaining: 2m 34s\n",
      "Stopped by overfitting detector  (300 iterations wait)\n",
      "\n",
      "bestTest = 0.6193725996\n",
      "bestIteration = 63\n",
      "\n",
      "Shrink model to first 64 iterations.\n",
      "0.03453237410071943\n",
      "Fold 3\n",
      "0:\tlearn: 0.6866004\ttest: 0.6905262\tbest: 0.6905262 (0)\ttotal: 167ms\tremaining: 8m 21s\n",
      "300:\tlearn: 0.1707376\ttest: 0.8930270\tbest: 0.6449297 (64)\ttotal: 16.4s\tremaining: 2m 27s\n",
      "Stopped by overfitting detector  (300 iterations wait)\n",
      "\n",
      "bestTest = 0.6449297226\n",
      "bestIteration = 64\n",
      "\n",
      "Shrink model to first 65 iterations.\n",
      "0.03180212014134275\n",
      "Our oof mse score is 0.030867482703565728\n"
     ]
    }
   ],
   "source": [
    "from catboost import CatBoostClassifier\n",
    "from sklearn.metrics import f1_score\n",
    "from sklearn.model_selection import StratifiedKFold\n",
    "\n",
    "X=pd.concat([train, val, val2])\n",
    "X['label']=0\n",
    "x2=testdf.copy()\n",
    "x2['label']=1\n",
    "df=pd.concat([X, x2])\n",
    "X=df.drop('label', axis=1)\n",
    "y_feat=df['label']\n",
    "\n",
    "model=CatBoostClassifier(learning_rate=0.01051006124,\n",
    "    random_state=0,\n",
    "    n_estimators=3000,\n",
    "    auto_class_weights='Balanced'\n",
    ")\n",
    "skfold = StratifiedKFold(n_splits=3, shuffle=True, random_state=5234)\n",
    "oof = np.zeros(len(X))\n",
    "predictions = []\n",
    "for fold, (trn_idx, val_idx) in enumerate(skfold.split(X, y_feat)):\n",
    "    print(f'Fold {fold + 1}')\n",
    "    X_train, y_train = X.iloc[trn_idx], y_feat.iloc[trn_idx]\n",
    "    X_valid, y_valid = X.iloc[val_idx], y_feat.iloc[val_idx]\n",
    "    \n",
    "    model.fit(\n",
    "        X_train, y_train,\n",
    "        eval_set=(X_valid, y_valid),\n",
    "        verbose=300,\n",
    "        early_stopping_rounds=300,\n",
    "        use_best_model=True\n",
    "    )\n",
    "    y_hat=model.predict_proba(X_valid)[:, 1]\n",
    "    oof[val_idx] = y_hat\n",
    "    print(f1_score(y_valid, (y_hat>0.5).astype(int)))\n",
    "\n",
    "print(f'Our oof mse score is {f1_score(y_feat, (oof>0.5).astype(int))}')"
   ]
  },
  {
   "cell_type": "code",
   "execution_count": 58,
   "metadata": {},
   "outputs": [],
   "source": [
    "thershold=abs(y_binary-oof)\n",
    "label=pd.DataFrame({'error':thershold, 'target':y})\n",
    "label=label[(label['error']<0.85) & (label['target']>250) | (label['error']<0.7) & (label['target']<60)] \n",
    "\n",
    "y=y.iloc[label.index]\n",
    "X=X.iloc[label.index]\n",
    "y_binary=y_binary.iloc[label.index]"
   ]
  },
  {
   "cell_type": "code",
   "execution_count": 60,
   "metadata": {},
   "outputs": [],
   "source": [
    "oof_1=pd.Series(oof)\n",
    "X['oof1']=oof_1.iloc[X.index]\n",
    "testdf['oof1']=model.predict_proba(testdf)[:, 1]"
   ]
  },
  {
   "cell_type": "markdown",
   "metadata": {},
   "source": [
    "#### train main model"
   ]
  },
  {
   "cell_type": "code",
   "execution_count": 50,
   "metadata": {},
   "outputs": [
    {
     "name": "stdout",
     "output_type": "stream",
     "text": [
      "Fold 1\n",
      "0:\tlearn: 58.8513728\ttest: 56.5915437\tbest: 56.5915437 (0)\ttotal: 81.6ms\tremaining: 4m 4s\n",
      "300:\tlearn: 50.7331991\ttest: 53.9849848\tbest: 53.9683075 (288)\ttotal: 12.1s\tremaining: 1m 48s\n",
      "600:\tlearn: 46.8547763\ttest: 53.9467350\tbest: 53.9097920 (494)\ttotal: 24s\tremaining: 1m 35s\n",
      "Stopped by overfitting detector  (300 iterations wait)\n",
      "\n",
      "bestTest = 53.90979203\n",
      "bestIteration = 494\n",
      "\n",
      "Shrink model to first 495 iterations.\n",
      "2906.2656770305875\n",
      "Fold 2\n",
      "0:\tlearn: 57.7248157\ttest: 66.3621294\tbest: 66.3621294 (0)\ttotal: 90.6ms\tremaining: 4m 31s\n",
      "300:\tlearn: 49.8884867\ttest: 63.7406610\tbest: 63.7359888 (297)\ttotal: 12.6s\tremaining: 1m 53s\n",
      "Stopped by overfitting detector  (300 iterations wait)\n",
      "\n",
      "bestTest = 63.73598884\n",
      "bestIteration = 297\n",
      "\n",
      "Shrink model to first 298 iterations.\n",
      "4062.2762730194195\n",
      "Fold 3\n",
      "0:\tlearn: 58.7091335\ttest: 57.7441341\tbest: 57.7441341 (0)\ttotal: 162ms\tremaining: 8m 6s\n",
      "300:\tlearn: 50.5336024\ttest: 54.2314636\tbest: 54.1922905 (291)\ttotal: 13.3s\tremaining: 1m 58s\n",
      "600:\tlearn: 46.6055293\ttest: 53.8502732\tbest: 53.8502732 (600)\ttotal: 26.6s\tremaining: 1m 46s\n",
      "900:\tlearn: 43.3992014\ttest: 53.8921907\tbest: 53.8179189 (641)\ttotal: 40.1s\tremaining: 1m 33s\n",
      "Stopped by overfitting detector  (300 iterations wait)\n",
      "\n",
      "bestTest = 53.81791894\n",
      "bestIteration = 641\n",
      "\n",
      "Shrink model to first 642 iterations.\n",
      "2896.3683985403723\n",
      "Fold 4\n",
      "0:\tlearn: 58.9106438\ttest: 55.9144673\tbest: 55.9144673 (0)\ttotal: 120ms\tremaining: 6m\n",
      "300:\tlearn: 50.4722937\ttest: 52.9602460\tbest: 52.9551104 (284)\ttotal: 12.8s\tremaining: 1m 54s\n",
      "600:\tlearn: 46.5446293\ttest: 52.9082970\tbest: 52.8675699 (387)\ttotal: 24.9s\tremaining: 1m 39s\n",
      "Stopped by overfitting detector  (300 iterations wait)\n",
      "\n",
      "bestTest = 52.86756989\n",
      "bestIteration = 387\n",
      "\n",
      "Shrink model to first 388 iterations.\n",
      "2794.9799456213736\n",
      "Fold 5\n",
      "0:\tlearn: 58.9127579\ttest: 55.9156527\tbest: 55.9156527 (0)\ttotal: 77.2ms\tremaining: 3m 51s\n",
      "300:\tlearn: 50.6418634\ttest: 53.5367748\tbest: 53.4816593 (259)\ttotal: 13.1s\tremaining: 1m 57s\n",
      "Stopped by overfitting detector  (300 iterations wait)\n",
      "\n",
      "bestTest = 53.48165935\n",
      "bestIteration = 259\n",
      "\n",
      "Shrink model to first 260 iterations.\n",
      "2860.287886474031\n",
      "Fold 6\n",
      "0:\tlearn: 58.8872296\ttest: 56.0454878\tbest: 56.0454878 (0)\ttotal: 147ms\tremaining: 7m 19s\n",
      "300:\tlearn: 50.6710797\ttest: 52.9076007\tbest: 52.9055264 (227)\ttotal: 12.9s\tremaining: 1m 55s\n",
      "Stopped by overfitting detector  (300 iterations wait)\n",
      "\n",
      "bestTest = 52.90552638\n",
      "bestIteration = 227\n",
      "\n",
      "Shrink model to first 228 iterations.\n",
      "2798.9947218774814\n",
      "Fold 7\n",
      "0:\tlearn: 58.7789962\ttest: 57.0653069\tbest: 57.0653069 (0)\ttotal: 78.6ms\tremaining: 3m 55s\n",
      "300:\tlearn: 50.6810803\ttest: 54.4487286\tbest: 54.4371388 (298)\ttotal: 12.8s\tremaining: 1m 54s\n",
      "600:\tlearn: 46.7548103\ttest: 54.3787821\tbest: 54.3544986 (427)\ttotal: 25.6s\tremaining: 1m 42s\n",
      "Stopped by overfitting detector  (300 iterations wait)\n",
      "\n",
      "bestTest = 54.35449858\n",
      "bestIteration = 427\n",
      "\n",
      "Shrink model to first 428 iterations.\n",
      "2954.411515701901\n",
      "Fold 8\n",
      "0:\tlearn: 58.7150529\ttest: 58.0176271\tbest: 58.0176271 (0)\ttotal: 74.3ms\tremaining: 3m 42s\n",
      "300:\tlearn: 50.6285339\ttest: 55.3985283\tbest: 55.3938030 (297)\ttotal: 12.7s\tremaining: 1m 53s\n",
      "600:\tlearn: 46.8195813\ttest: 55.3507554\tbest: 55.2863239 (490)\ttotal: 25.3s\tremaining: 1m 41s\n",
      "Stopped by overfitting detector  (300 iterations wait)\n",
      "\n",
      "bestTest = 55.2863239\n",
      "bestIteration = 490\n",
      "\n",
      "Shrink model to first 491 iterations.\n",
      "3056.577610324677\n",
      "Fold 9\n",
      "0:\tlearn: 58.0580069\ttest: 63.5355499\tbest: 63.5355499 (0)\ttotal: 77.7ms\tremaining: 3m 52s\n",
      "300:\tlearn: 50.5682174\ttest: 60.6714468\tbest: 60.6458821 (286)\ttotal: 13s\tremaining: 1m 56s\n",
      "600:\tlearn: 46.7654428\ttest: 60.6283287\tbest: 60.6037311 (561)\ttotal: 25.6s\tremaining: 1m 42s\n",
      "900:\tlearn: 43.6307788\ttest: 60.6963163\tbest: 60.6011695 (676)\ttotal: 38.6s\tremaining: 1m 29s\n",
      "Stopped by overfitting detector  (300 iterations wait)\n",
      "\n",
      "bestTest = 60.60116948\n",
      "bestIteration = 676\n",
      "\n",
      "Shrink model to first 677 iterations.\n",
      "3672.5017422692113\n",
      "Fold 10\n",
      "0:\tlearn: 58.6684575\ttest: 58.3454331\tbest: 58.3454331 (0)\ttotal: 97.4ms\tremaining: 4m 52s\n",
      "300:\tlearn: 50.4387775\ttest: 56.2899178\tbest: 56.2810097 (242)\ttotal: 13s\tremaining: 1m 56s\n",
      "600:\tlearn: 46.4668871\ttest: 56.3010361\tbest: 56.2158667 (390)\ttotal: 25.7s\tremaining: 1m 42s\n",
      "Stopped by overfitting detector  (300 iterations wait)\n",
      "\n",
      "bestTest = 56.21586666\n",
      "bestIteration = 390\n",
      "\n",
      "Shrink model to first 391 iterations.\n",
      "3160.2236644570025\n",
      "Our oof mse score is 3116.2887435316056\n"
     ]
    }
   ],
   "source": [
    "from catboost import CatBoostClassifier\n",
    "from sklearn.metrics import f1_score\n",
    "from sklearn.model_selection import StratifiedKFold\n",
    "#=pd.concat([train, val, val2])\n",
    "#y_binary=(pd.concat([pd.Series(train_biomasses), pd.Series(validate_biomasses), pd.Series(test_biomasses)])>150).astype(int)\n",
    "#y=pd.concat([pd.Series(train_biomasses), pd.Series(validate_biomasses), pd.Series(test_biomasses)])\n",
    "model=CatBoostRegressor(learning_rate=0.1051006124,\n",
    "    random_state=0,\n",
    "    n_estimators=3000,\n",
    ")\n",
    "skfold = StratifiedKFold(n_splits=10, shuffle=True, random_state=5234)\n",
    "oof = np.zeros(len(X))\n",
    "predictions = []\n",
    "for fold, (trn_idx, val_idx) in enumerate(skfold.split(X, y_binary)):\n",
    "    print(f'Fold {fold + 1}')\n",
    "    X_train, y_train = X.iloc[trn_idx], y.iloc[trn_idx]\n",
    "    X_valid, y_valid = X.iloc[val_idx], y.iloc[val_idx]\n",
    "    \n",
    "    model.fit(\n",
    "        X_train, y_train,\n",
    "        eval_set=(X_valid, y_valid),\n",
    "        verbose=300,\n",
    "        early_stopping_rounds=300,\n",
    "    )\n",
    "    y_hat=model.predict(X_valid)\n",
    "    oof[val_idx] = y_hat\n",
    "    predictions.append(model.predict(testdf))\n",
    "    print(mean_squared_error(y_valid, y_hat))\n",
    "\n",
    "predictions = np.mean(predictions, axis=0)\n",
    "print(f'Our oof mse score is {mean_squared_error(y, oof)}')\n",
    "#print(f'Our oof mse score is {mean_squared_error(test_biomasses, model.predict)}')\n"
   ]
  },
  {
   "cell_type": "code",
   "execution_count": 51,
   "metadata": {},
   "outputs": [
    {
     "data": {
      "text/plain": [
       "[<matplotlib.lines.Line2D at 0x19f157afc48>]"
      ]
     },
     "execution_count": 51,
     "metadata": {},
     "output_type": "execute_result"
    },
    {
     "data": {
      "image/png": "[encoded data removed]",
      "text/plain": [
       "<Figure size 1152x432 with 1 Axes>"
      ]
     },
     "metadata": {
      "needs_background": "light"
     },
     "output_type": "display_data"
    }
   ],
   "source": [
    "import seaborn as sns\n",
    "plt.figure(figsize=(16, 6))\n",
    "plt.plot(y)\n",
    "plt.plot(oof)\n",
    "#plt.legend(['treue', 'predict'])\n",
    "#plt.plot(y-oof)"
   ]
  },
  {
   "cell_type": "code",
   "execution_count": 52,
   "metadata": {},
   "outputs": [
    {
     "data": {
      "text/html": [
       "<div>\n",
       "<style scoped>\n",
       "    .dataframe tbody tr th:only-of-type {\n",
       "        vertical-align: middle;\n",
       "    }\n",
       "\n",
       "    .dataframe tbody tr th {\n",
       "        vertical-align: top;\n",
       "    }\n",
       "\n",
       "    .dataframe thead th {\n",
       "        text-align: right;\n",
       "    }\n",
       "</style>\n",
       "<table border=\"1\" class=\"dataframe\">\n",
       "  <thead>\n",
       "    <tr style=\"text-align: right;\">\n",
       "      <th></th>\n",
       "      <th>target</th>\n",
       "      <th>predict</th>\n",
       "      <th>error</th>\n",
       "    </tr>\n",
       "  </thead>\n",
       "  <tbody>\n",
       "    <tr>\n",
       "      <th>3869</th>\n",
       "      <td>1822.330566</td>\n",
       "      <td>60.297841</td>\n",
       "      <td>1762.032725</td>\n",
       "    </tr>\n",
       "    <tr>\n",
       "      <th>3561</th>\n",
       "      <td>1438.000000</td>\n",
       "      <td>28.951481</td>\n",
       "      <td>1409.048519</td>\n",
       "    </tr>\n",
       "    <tr>\n",
       "      <th>2006</th>\n",
       "      <td>1000.065796</td>\n",
       "      <td>36.971508</td>\n",
       "      <td>963.094288</td>\n",
       "    </tr>\n",
       "    <tr>\n",
       "      <th>3219</th>\n",
       "      <td>863.000000</td>\n",
       "      <td>60.532611</td>\n",
       "      <td>802.467389</td>\n",
       "    </tr>\n",
       "    <tr>\n",
       "      <th>177</th>\n",
       "      <td>807.000000</td>\n",
       "      <td>85.802866</td>\n",
       "      <td>721.197134</td>\n",
       "    </tr>\n",
       "    <tr>\n",
       "      <th>2410</th>\n",
       "      <td>802.500000</td>\n",
       "      <td>41.979936</td>\n",
       "      <td>760.520064</td>\n",
       "    </tr>\n",
       "    <tr>\n",
       "      <th>23864</th>\n",
       "      <td>785.500000</td>\n",
       "      <td>95.921251</td>\n",
       "      <td>689.578749</td>\n",
       "    </tr>\n",
       "    <tr>\n",
       "      <th>23121</th>\n",
       "      <td>733.500000</td>\n",
       "      <td>51.538917</td>\n",
       "      <td>681.961083</td>\n",
       "    </tr>\n",
       "    <tr>\n",
       "      <th>2000</th>\n",
       "      <td>725.000000</td>\n",
       "      <td>83.372231</td>\n",
       "      <td>641.627769</td>\n",
       "    </tr>\n",
       "    <tr>\n",
       "      <th>1164</th>\n",
       "      <td>714.609863</td>\n",
       "      <td>60.634615</td>\n",
       "      <td>653.975249</td>\n",
       "    </tr>\n",
       "    <tr>\n",
       "      <th>24442</th>\n",
       "      <td>677.500000</td>\n",
       "      <td>61.761864</td>\n",
       "      <td>615.738136</td>\n",
       "    </tr>\n",
       "    <tr>\n",
       "      <th>24860</th>\n",
       "      <td>671.000000</td>\n",
       "      <td>25.788385</td>\n",
       "      <td>645.211615</td>\n",
       "    </tr>\n",
       "    <tr>\n",
       "      <th>3765</th>\n",
       "      <td>636.856079</td>\n",
       "      <td>49.327020</td>\n",
       "      <td>587.529059</td>\n",
       "    </tr>\n",
       "    <tr>\n",
       "      <th>444</th>\n",
       "      <td>633.000000</td>\n",
       "      <td>47.466555</td>\n",
       "      <td>585.533445</td>\n",
       "    </tr>\n",
       "    <tr>\n",
       "      <th>2094</th>\n",
       "      <td>627.749939</td>\n",
       "      <td>80.560278</td>\n",
       "      <td>547.189661</td>\n",
       "    </tr>\n",
       "    <tr>\n",
       "      <th>21963</th>\n",
       "      <td>627.500000</td>\n",
       "      <td>31.300999</td>\n",
       "      <td>596.199001</td>\n",
       "    </tr>\n",
       "    <tr>\n",
       "      <th>8903</th>\n",
       "      <td>584.500000</td>\n",
       "      <td>65.734689</td>\n",
       "      <td>518.765311</td>\n",
       "    </tr>\n",
       "    <tr>\n",
       "      <th>1091</th>\n",
       "      <td>577.000000</td>\n",
       "      <td>44.948722</td>\n",
       "      <td>532.051278</td>\n",
       "    </tr>\n",
       "    <tr>\n",
       "      <th>1514</th>\n",
       "      <td>564.877136</td>\n",
       "      <td>63.623074</td>\n",
       "      <td>501.254062</td>\n",
       "    </tr>\n",
       "    <tr>\n",
       "      <th>2612</th>\n",
       "      <td>562.500000</td>\n",
       "      <td>47.300848</td>\n",
       "      <td>515.199152</td>\n",
       "    </tr>\n",
       "    <tr>\n",
       "      <th>20356</th>\n",
       "      <td>560.500000</td>\n",
       "      <td>48.831642</td>\n",
       "      <td>511.668358</td>\n",
       "    </tr>\n",
       "    <tr>\n",
       "      <th>3111</th>\n",
       "      <td>558.736816</td>\n",
       "      <td>21.055507</td>\n",
       "      <td>537.681309</td>\n",
       "    </tr>\n",
       "    <tr>\n",
       "      <th>5644</th>\n",
       "      <td>550.500000</td>\n",
       "      <td>103.155545</td>\n",
       "      <td>447.344455</td>\n",
       "    </tr>\n",
       "    <tr>\n",
       "      <th>15402</th>\n",
       "      <td>548.500000</td>\n",
       "      <td>45.628082</td>\n",
       "      <td>502.871918</td>\n",
       "    </tr>\n",
       "    <tr>\n",
       "      <th>891</th>\n",
       "      <td>547.500000</td>\n",
       "      <td>109.372935</td>\n",
       "      <td>438.127065</td>\n",
       "    </tr>\n",
       "    <tr>\n",
       "      <th>18369</th>\n",
       "      <td>538.500000</td>\n",
       "      <td>53.655566</td>\n",
       "      <td>484.844434</td>\n",
       "    </tr>\n",
       "    <tr>\n",
       "      <th>16740</th>\n",
       "      <td>537.000000</td>\n",
       "      <td>50.855515</td>\n",
       "      <td>486.144485</td>\n",
       "    </tr>\n",
       "    <tr>\n",
       "      <th>3078</th>\n",
       "      <td>536.500000</td>\n",
       "      <td>51.538796</td>\n",
       "      <td>484.961204</td>\n",
       "    </tr>\n",
       "    <tr>\n",
       "      <th>11094</th>\n",
       "      <td>536.500000</td>\n",
       "      <td>55.561485</td>\n",
       "      <td>480.938515</td>\n",
       "    </tr>\n",
       "    <tr>\n",
       "      <th>21636</th>\n",
       "      <td>531.000000</td>\n",
       "      <td>72.622091</td>\n",
       "      <td>458.377909</td>\n",
       "    </tr>\n",
       "  </tbody>\n",
       "</table>\n",
       "</div>"
      ],
      "text/plain": [
       "            target     predict        error\n",
       "3869   1822.330566   60.297841  1762.032725\n",
       "3561   1438.000000   28.951481  1409.048519\n",
       "2006   1000.065796   36.971508   963.094288\n",
       "3219    863.000000   60.532611   802.467389\n",
       "177     807.000000   85.802866   721.197134\n",
       "2410    802.500000   41.979936   760.520064\n",
       "23864   785.500000   95.921251   689.578749\n",
       "23121   733.500000   51.538917   681.961083\n",
       "2000    725.000000   83.372231   641.627769\n",
       "1164    714.609863   60.634615   653.975249\n",
       "24442   677.500000   61.761864   615.738136\n",
       "24860   671.000000   25.788385   645.211615\n",
       "3765    636.856079   49.327020   587.529059\n",
       "444     633.000000   47.466555   585.533445\n",
       "2094    627.749939   80.560278   547.189661\n",
       "21963   627.500000   31.300999   596.199001\n",
       "8903    584.500000   65.734689   518.765311\n",
       "1091    577.000000   44.948722   532.051278\n",
       "1514    564.877136   63.623074   501.254062\n",
       "2612    562.500000   47.300848   515.199152\n",
       "20356   560.500000   48.831642   511.668358\n",
       "3111    558.736816   21.055507   537.681309\n",
       "5644    550.500000  103.155545   447.344455\n",
       "15402   548.500000   45.628082   502.871918\n",
       "891     547.500000  109.372935   438.127065\n",
       "18369   538.500000   53.655566   484.844434\n",
       "16740   537.000000   50.855515   486.144485\n",
       "3078    536.500000   51.538796   484.961204\n",
       "11094   536.500000   55.561485   480.938515\n",
       "21636   531.000000   72.622091   458.377909"
      ]
     },
     "execution_count": 52,
     "metadata": {},
     "output_type": "execute_result"
    }
   ],
   "source": [
    "history=pd.DataFrame({'target':y, 'predict':oof})\n",
    "history['error']=abs(history['target']-history['predict'])\n",
    "history[history['error']>50].sort_values(by=['target'], ascending=False)[:30]"
   ]
  },
  {
   "cell_type": "markdown",
   "metadata": {},
   "source": [
    "#### train the model on more filterd data"
   ]
  },
  {
   "cell_type": "code",
   "execution_count": 51,
   "metadata": {},
   "outputs": [
    {
     "name": "stdout",
     "output_type": "stream",
     "text": [
      "[50]\ttraining's l2: 781.092\n",
      "311.36327781803436\n"
     ]
    }
   ],
   "source": [
    "seed=0\n",
    "model = LGBMRegressor(\n",
    "    n_estimators=90,\n",
    "    learning_rate=0.303006124,\n",
    "    random_state=0,\n",
    ")\n",
    "\n",
    "predictions = []\n",
    "#X=X[feat.index]\n",
    "#test=test[feat.index]\n",
    "#valid=valid[feat.index]\n",
    "model.fit(val, validate_biomasses,\n",
    "        eval_set=(val, validate_biomasses),\n",
    "        verbose=50,\n",
    "        early_stopping_rounds=50,\n",
    "    )\n",
    "y_hat=model.predict(val)\n",
    "predictions.append((model.predict(testdf)))\n",
    "print(mean_squared_error((validate_biomasses), y_hat))\n",
    "predictions = np.mean(predictions, axis=0)\n",
    "#print(f'Our oof mse score is {mean_squared_error(, oof)}')"
   ]
  },
  {
   "cell_type": "code",
   "execution_count": 52,
   "metadata": {},
   "outputs": [
    {
     "data": {
      "text/plain": [
       "<matplotlib.legend.Legend at 0x2196c522c08>"
      ]
     },
     "execution_count": 52,
     "metadata": {},
     "output_type": "execute_result"
    },
    {
     "data": {
      "image/png": "[encoded data removed]",
      "text/plain": [
       "<Figure size 1152x432 with 1 Axes>"
      ]
     },
     "metadata": {
      "needs_background": "light"
     },
     "output_type": "display_data"
    }
   ],
   "source": [
    "import seaborn as sns\n",
    "plt.figure(figsize=(16, 6))\n",
    "plt.plot(test_biomasses, )\n",
    "plt.plot(model.predict(val2))\n",
    "plt.legend(['treue', 'predict'])\n",
    "#plt.plot(y-oof)"
   ]
  },
  {
   "cell_type": "code",
   "execution_count": 29,
   "metadata": {},
   "outputs": [
    {
     "name": "stdout",
     "output_type": "stream",
     "text": [
      "[500]\tvalid_0's l2: 3975.01\n",
      "[1000]\tvalid_0's l2: 3924.79\n",
      "[1500]\tvalid_0's l2: 3896.06\n",
      "[2000]\tvalid_0's l2: 3881.07\n",
      "[2500]\tvalid_0's l2: 3870.94\n",
      "[3000]\tvalid_0's l2: 3863.31\n",
      "[3500]\tvalid_0's l2: 3854.04\n",
      "[4000]\tvalid_0's l2: 3848.14\n",
      "[4500]\tvalid_0's l2: 3842.96\n",
      "[5000]\tvalid_0's l2: 3838.32\n",
      "[5500]\tvalid_0's l2: 3837.34\n",
      "3867.331428752697\n"
     ]
    }
   ],
   "source": [
    "seed=0\n",
    "model = LGBMRegressor(\n",
    "    n_estimators=40000,\n",
    "    learning_rate=0.001006124,\n",
    "    random_state=0,\n",
    ")\n",
    "\n",
    "predictions = []\n",
    "#X=X[feat.index]\n",
    "#test=test[feat.index]\n",
    "#valid=valid[feat.index]\n",
    "model.fit(train, train_biomasses,\n",
    "        eval_set=(val, validate_biomasses),\n",
    "        verbose=500,\n",
    "        early_stopping_rounds=500,\n",
    "    )\n",
    "y_hat=model.predict(val2)\n",
    "predictions.append((model.predict(testdf)))\n",
    "print(mean_squared_error((test_biomasses), y_hat))\n",
    "predictions = np.mean(predictions, axis=0)\n",
    "#print(f'Our oof mse score is {mean_squared_error(, oof)}')"
   ]
  },
  {
   "cell_type": "code",
   "execution_count": 17,
   "metadata": {},
   "outputs": [
    {
     "data": {
      "text/html": [
       "<div>\n",
       "<style scoped>\n",
       "    .dataframe tbody tr th:only-of-type {\n",
       "        vertical-align: middle;\n",
       "    }\n",
       "\n",
       "    .dataframe tbody tr th {\n",
       "        vertical-align: top;\n",
       "    }\n",
       "\n",
       "    .dataframe thead th {\n",
       "        text-align: right;\n",
       "    }\n",
       "</style>\n",
       "<table border=\"1\" class=\"dataframe\">\n",
       "  <thead>\n",
       "    <tr style=\"text-align: right;\">\n",
       "      <th></th>\n",
       "      <th>target</th>\n",
       "      <th>predict</th>\n",
       "      <th>error</th>\n",
       "    </tr>\n",
       "  </thead>\n",
       "  <tbody>\n",
       "    <tr>\n",
       "      <th>3219</th>\n",
       "      <td>863.00</td>\n",
       "      <td>43.741320</td>\n",
       "      <td>819.258680</td>\n",
       "    </tr>\n",
       "    <tr>\n",
       "      <th>23864</th>\n",
       "      <td>785.50</td>\n",
       "      <td>85.653621</td>\n",
       "      <td>699.846379</td>\n",
       "    </tr>\n",
       "    <tr>\n",
       "      <th>23121</th>\n",
       "      <td>733.50</td>\n",
       "      <td>38.965897</td>\n",
       "      <td>694.534103</td>\n",
       "    </tr>\n",
       "    <tr>\n",
       "      <th>24442</th>\n",
       "      <td>677.50</td>\n",
       "      <td>121.911345</td>\n",
       "      <td>555.588655</td>\n",
       "    </tr>\n",
       "    <tr>\n",
       "      <th>21963</th>\n",
       "      <td>627.50</td>\n",
       "      <td>37.558283</td>\n",
       "      <td>589.941717</td>\n",
       "    </tr>\n",
       "    <tr>\n",
       "      <th>8903</th>\n",
       "      <td>584.50</td>\n",
       "      <td>51.672108</td>\n",
       "      <td>532.827892</td>\n",
       "    </tr>\n",
       "    <tr>\n",
       "      <th>1091</th>\n",
       "      <td>577.00</td>\n",
       "      <td>59.692127</td>\n",
       "      <td>517.307873</td>\n",
       "    </tr>\n",
       "    <tr>\n",
       "      <th>1091</th>\n",
       "      <td>577.00</td>\n",
       "      <td>59.692127</td>\n",
       "      <td>517.307873</td>\n",
       "    </tr>\n",
       "    <tr>\n",
       "      <th>20356</th>\n",
       "      <td>560.50</td>\n",
       "      <td>21.270834</td>\n",
       "      <td>539.229166</td>\n",
       "    </tr>\n",
       "    <tr>\n",
       "      <th>5644</th>\n",
       "      <td>550.50</td>\n",
       "      <td>99.683267</td>\n",
       "      <td>450.816733</td>\n",
       "    </tr>\n",
       "    <tr>\n",
       "      <th>15402</th>\n",
       "      <td>548.50</td>\n",
       "      <td>49.917420</td>\n",
       "      <td>498.582580</td>\n",
       "    </tr>\n",
       "    <tr>\n",
       "      <th>891</th>\n",
       "      <td>547.50</td>\n",
       "      <td>100.798522</td>\n",
       "      <td>446.701478</td>\n",
       "    </tr>\n",
       "    <tr>\n",
       "      <th>891</th>\n",
       "      <td>547.50</td>\n",
       "      <td>100.798522</td>\n",
       "      <td>446.701478</td>\n",
       "    </tr>\n",
       "    <tr>\n",
       "      <th>18369</th>\n",
       "      <td>538.50</td>\n",
       "      <td>23.016396</td>\n",
       "      <td>515.483604</td>\n",
       "    </tr>\n",
       "    <tr>\n",
       "      <th>16740</th>\n",
       "      <td>537.00</td>\n",
       "      <td>37.660600</td>\n",
       "      <td>499.339400</td>\n",
       "    </tr>\n",
       "    <tr>\n",
       "      <th>11094</th>\n",
       "      <td>536.50</td>\n",
       "      <td>57.223570</td>\n",
       "      <td>479.276430</td>\n",
       "    </tr>\n",
       "    <tr>\n",
       "      <th>21636</th>\n",
       "      <td>531.00</td>\n",
       "      <td>36.206550</td>\n",
       "      <td>494.793450</td>\n",
       "    </tr>\n",
       "    <tr>\n",
       "      <th>11250</th>\n",
       "      <td>516.00</td>\n",
       "      <td>23.675928</td>\n",
       "      <td>492.324072</td>\n",
       "    </tr>\n",
       "    <tr>\n",
       "      <th>4762</th>\n",
       "      <td>516.00</td>\n",
       "      <td>463.979568</td>\n",
       "      <td>52.020432</td>\n",
       "    </tr>\n",
       "    <tr>\n",
       "      <th>4762</th>\n",
       "      <td>516.00</td>\n",
       "      <td>463.979568</td>\n",
       "      <td>52.020432</td>\n",
       "    </tr>\n",
       "    <tr>\n",
       "      <th>7993</th>\n",
       "      <td>514.50</td>\n",
       "      <td>40.871583</td>\n",
       "      <td>473.628417</td>\n",
       "    </tr>\n",
       "    <tr>\n",
       "      <th>6954</th>\n",
       "      <td>504.50</td>\n",
       "      <td>74.130344</td>\n",
       "      <td>430.369656</td>\n",
       "    </tr>\n",
       "    <tr>\n",
       "      <th>5807</th>\n",
       "      <td>503.00</td>\n",
       "      <td>45.467542</td>\n",
       "      <td>457.532458</td>\n",
       "    </tr>\n",
       "    <tr>\n",
       "      <th>23382</th>\n",
       "      <td>501.00</td>\n",
       "      <td>23.643274</td>\n",
       "      <td>477.356726</td>\n",
       "    </tr>\n",
       "    <tr>\n",
       "      <th>5672</th>\n",
       "      <td>499.25</td>\n",
       "      <td>48.478814</td>\n",
       "      <td>450.771186</td>\n",
       "    </tr>\n",
       "    <tr>\n",
       "      <th>8707</th>\n",
       "      <td>498.25</td>\n",
       "      <td>38.244098</td>\n",
       "      <td>460.005902</td>\n",
       "    </tr>\n",
       "    <tr>\n",
       "      <th>5122</th>\n",
       "      <td>497.75</td>\n",
       "      <td>447.529209</td>\n",
       "      <td>50.220791</td>\n",
       "    </tr>\n",
       "    <tr>\n",
       "      <th>5122</th>\n",
       "      <td>497.75</td>\n",
       "      <td>447.529209</td>\n",
       "      <td>50.220791</td>\n",
       "    </tr>\n",
       "    <tr>\n",
       "      <th>16420</th>\n",
       "      <td>482.25</td>\n",
       "      <td>78.487477</td>\n",
       "      <td>403.762523</td>\n",
       "    </tr>\n",
       "    <tr>\n",
       "      <th>9113</th>\n",
       "      <td>479.75</td>\n",
       "      <td>55.508737</td>\n",
       "      <td>424.241263</td>\n",
       "    </tr>\n",
       "  </tbody>\n",
       "</table>\n",
       "</div>"
      ],
      "text/plain": [
       "       target     predict       error\n",
       "3219   863.00   43.741320  819.258680\n",
       "23864  785.50   85.653621  699.846379\n",
       "23121  733.50   38.965897  694.534103\n",
       "24442  677.50  121.911345  555.588655\n",
       "21963  627.50   37.558283  589.941717\n",
       "8903   584.50   51.672108  532.827892\n",
       "1091   577.00   59.692127  517.307873\n",
       "1091   577.00   59.692127  517.307873\n",
       "20356  560.50   21.270834  539.229166\n",
       "5644   550.50   99.683267  450.816733\n",
       "15402  548.50   49.917420  498.582580\n",
       "891    547.50  100.798522  446.701478\n",
       "891    547.50  100.798522  446.701478\n",
       "18369  538.50   23.016396  515.483604\n",
       "16740  537.00   37.660600  499.339400\n",
       "11094  536.50   57.223570  479.276430\n",
       "21636  531.00   36.206550  494.793450\n",
       "11250  516.00   23.675928  492.324072\n",
       "4762   516.00  463.979568   52.020432\n",
       "4762   516.00  463.979568   52.020432\n",
       "7993   514.50   40.871583  473.628417\n",
       "6954   504.50   74.130344  430.369656\n",
       "5807   503.00   45.467542  457.532458\n",
       "23382  501.00   23.643274  477.356726\n",
       "5672   499.25   48.478814  450.771186\n",
       "8707   498.25   38.244098  460.005902\n",
       "5122   497.75  447.529209   50.220791\n",
       "5122   497.75  447.529209   50.220791\n",
       "16420  482.25   78.487477  403.762523\n",
       "9113   479.75   55.508737  424.241263"
      ]
     },
     "execution_count": 17,
     "metadata": {},
     "output_type": "execute_result"
    }
   ],
   "source": [
    "history=pd.DataFrame({'target':y, 'predict':oof})\n",
    "history['error']=abs(history['target']-history['predict'])\n",
    "history[history['error']>50].sort_values(by=['target'], ascending=False)[:30]"
   ]
  },
  {
   "cell_type": "code",
   "execution_count": 53,
   "metadata": {
    "executionInfo": {
     "elapsed": 427,
     "status": "ok",
     "timestamp": 1674723586040,
     "user": {
      "displayName": "Nelson Mganga",
      "userId": "15984282569117459010"
     },
     "user_tz": -180
    },
    "id": "WD4IyJWvGgzo"
   },
   "outputs": [
    {
     "data": {
      "text/html": [
       "<div>\n",
       "<style scoped>\n",
       "    .dataframe tbody tr th:only-of-type {\n",
       "        vertical-align: middle;\n",
       "    }\n",
       "\n",
       "    .dataframe tbody tr th {\n",
       "        vertical-align: top;\n",
       "    }\n",
       "\n",
       "    .dataframe thead th {\n",
       "        text-align: right;\n",
       "    }\n",
       "</style>\n",
       "<table border=\"1\" class=\"dataframe\">\n",
       "  <thead>\n",
       "    <tr style=\"text-align: right;\">\n",
       "      <th></th>\n",
       "      <th>ID</th>\n",
       "      <th>Target</th>\n",
       "    </tr>\n",
       "  </thead>\n",
       "  <tbody>\n",
       "    <tr>\n",
       "      <th>0</th>\n",
       "      <td>ID_1EB0DGFP07</td>\n",
       "      <td>39.814578</td>\n",
       "    </tr>\n",
       "    <tr>\n",
       "      <th>1</th>\n",
       "      <td>ID_844T2PSXTK</td>\n",
       "      <td>46.595259</td>\n",
       "    </tr>\n",
       "    <tr>\n",
       "      <th>2</th>\n",
       "      <td>ID_4MCV3S8MLN</td>\n",
       "      <td>33.319847</td>\n",
       "    </tr>\n",
       "    <tr>\n",
       "      <th>3</th>\n",
       "      <td>ID_L7441JV5F3</td>\n",
       "      <td>38.954178</td>\n",
       "    </tr>\n",
       "    <tr>\n",
       "      <th>4</th>\n",
       "      <td>ID_5GUVM4YEWZ</td>\n",
       "      <td>45.543331</td>\n",
       "    </tr>\n",
       "    <tr>\n",
       "      <th>...</th>\n",
       "      <td>...</td>\n",
       "      <td>...</td>\n",
       "    </tr>\n",
       "    <tr>\n",
       "      <th>85</th>\n",
       "      <td>ID_MEW6189J1B</td>\n",
       "      <td>71.467047</td>\n",
       "    </tr>\n",
       "    <tr>\n",
       "      <th>86</th>\n",
       "      <td>ID_TH9HRUXGTP</td>\n",
       "      <td>50.669940</td>\n",
       "    </tr>\n",
       "    <tr>\n",
       "      <th>87</th>\n",
       "      <td>ID_GPC7YS3JG8</td>\n",
       "      <td>49.631411</td>\n",
       "    </tr>\n",
       "    <tr>\n",
       "      <th>88</th>\n",
       "      <td>ID_1P7PJMPV0R</td>\n",
       "      <td>61.116456</td>\n",
       "    </tr>\n",
       "    <tr>\n",
       "      <th>89</th>\n",
       "      <td>ID_NTFSOIOEOG</td>\n",
       "      <td>50.210551</td>\n",
       "    </tr>\n",
       "  </tbody>\n",
       "</table>\n",
       "<p>90 rows × 2 columns</p>\n",
       "</div>"
      ],
      "text/plain": [
       "               ID     Target\n",
       "0   ID_1EB0DGFP07  39.814578\n",
       "1   ID_844T2PSXTK  46.595259\n",
       "2   ID_4MCV3S8MLN  33.319847\n",
       "3   ID_L7441JV5F3  38.954178\n",
       "4   ID_5GUVM4YEWZ  45.543331\n",
       "..            ...        ...\n",
       "85  ID_MEW6189J1B  71.467047\n",
       "86  ID_TH9HRUXGTP  50.669940\n",
       "87  ID_GPC7YS3JG8  49.631411\n",
       "88  ID_1P7PJMPV0R  61.116456\n",
       "89  ID_NTFSOIOEOG  50.210551\n",
       "\n",
       "[90 rows x 2 columns]"
      ]
     },
     "metadata": {},
     "output_type": "display_data"
    },
    {
     "data": {
      "text/html": [
       "<div>\n",
       "<style scoped>\n",
       "    .dataframe tbody tr th:only-of-type {\n",
       "        vertical-align: middle;\n",
       "    }\n",
       "\n",
       "    .dataframe tbody tr th {\n",
       "        vertical-align: top;\n",
       "    }\n",
       "\n",
       "    .dataframe thead th {\n",
       "        text-align: right;\n",
       "    }\n",
       "</style>\n",
       "<table border=\"1\" class=\"dataframe\">\n",
       "  <thead>\n",
       "    <tr style=\"text-align: right;\">\n",
       "      <th></th>\n",
       "      <th>Target</th>\n",
       "    </tr>\n",
       "  </thead>\n",
       "  <tbody>\n",
       "    <tr>\n",
       "      <th>count</th>\n",
       "      <td>90.000000</td>\n",
       "    </tr>\n",
       "    <tr>\n",
       "      <th>mean</th>\n",
       "      <td>50.612440</td>\n",
       "    </tr>\n",
       "    <tr>\n",
       "      <th>std</th>\n",
       "      <td>11.888301</td>\n",
       "    </tr>\n",
       "    <tr>\n",
       "      <th>min</th>\n",
       "      <td>23.514217</td>\n",
       "    </tr>\n",
       "    <tr>\n",
       "      <th>25%</th>\n",
       "      <td>42.845670</td>\n",
       "    </tr>\n",
       "    <tr>\n",
       "      <th>50%</th>\n",
       "      <td>48.105065</td>\n",
       "    </tr>\n",
       "    <tr>\n",
       "      <th>75%</th>\n",
       "      <td>57.599199</td>\n",
       "    </tr>\n",
       "    <tr>\n",
       "      <th>max</th>\n",
       "      <td>82.014628</td>\n",
       "    </tr>\n",
       "  </tbody>\n",
       "</table>\n",
       "</div>"
      ],
      "text/plain": [
       "          Target\n",
       "count  90.000000\n",
       "mean   50.612440\n",
       "std    11.888301\n",
       "min    23.514217\n",
       "25%    42.845670\n",
       "50%    48.105065\n",
       "75%    57.599199\n",
       "max    82.014628"
      ]
     },
     "execution_count": 53,
     "metadata": {},
     "output_type": "execute_result"
    }
   ],
   "source": [
    "ID_S2_pair = pd.read_csv('UniqueID-SentinelPair.csv')\n",
    "\n",
    "preds = pd.DataFrame({'Target':predictions}).rename_axis('S2_idx').reset_index()\n",
    "preds = ID_S2_pair.merge(preds, on='S2_idx').drop(columns=['S2_idx'])\n",
    "preds.to_csv('GIZ_Biomass_predictions_by_lgb.csv', index=False)\n",
    "display(preds)\n",
    "preds.describe()\n"
   ]
  },
  {
   "cell_type": "code",
   "execution_count": 58,
   "metadata": {},
   "outputs": [
    {
     "data": {
      "text/plain": [
       "array([[<AxesSubplot:title={'center':'Target'}>]], dtype=object)"
      ]
     },
     "execution_count": 58,
     "metadata": {},
     "output_type": "execute_result"
    },
    {
     "data": {
      "image/png": "[encoded data removed]",
      "text/plain": [
       "<Figure size 432x288 with 1 Axes>"
      ]
     },
     "metadata": {
      "needs_background": "light"
     },
     "output_type": "display_data"
    }
   ],
   "source": [
    "preds.hist()"
   ]
  }
 ],
 "metadata": {
  "colab": {
   "authorship_tag": "ABX9TyOihXjq07msZbeQcKWpSf4h",
   "mount_file_id": "1A8QpZiR1T7BX1Re4gixSxA2ju6cXFn4s",
   "provenance": []
  },
  "kernelspec": {
   "display_name": "Python 3.7.7 ('tensorflow_gpuenv')",
   "language": "python",
   "name": "python3"
  },
  "language_info": {
   "codemirror_mode": {
    "name": "ipython",
    "version": 3
   },
   "file_extension": ".py",
   "mimetype": "text/x-python",
   "name": "python",
   "nbconvert_exporter": "python",
   "pygments_lexer": "ipython3",
   "version": "3.7.7"
  },
  "vscode": {
   "interpreter": {
    "hash": "7a5e850a5216015eb697a56449ef0c54ca988273e180352aa540ea0a269fa6ea"
   }
  }
 },
 "nbformat": 4,
 "nbformat_minor": 1
}
